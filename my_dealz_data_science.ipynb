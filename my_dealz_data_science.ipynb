{
 "cells": [
  {
   "cell_type": "markdown",
   "metadata": {},
   "source": [
    "# Importing Libraries"
   ]
  },
  {
   "cell_type": "code",
   "execution_count": 41,
   "metadata": {},
   "outputs": [],
   "source": [
    "import pandas as pd\n",
    "import numpy as np\n",
    "import matplotlib as pt\n",
    "import seaborn as sns\n",
    "from sklearn.model_selection import train_test_split\n",
    "from sklearn import metrics\n",
    "import matplotlib.pyplot as plt\n",
    "%matplotlib inline\n",
    "from IPython.core.display import display, HTML"
   ]
  },
  {
   "cell_type": "markdown",
   "metadata": {},
   "source": [
    "# Importing and Transforming Scraped Data"
   ]
  },
  {
   "cell_type": "code",
   "execution_count": 42,
   "metadata": {},
   "outputs": [],
   "source": [
    "#Reading in scraped data\n",
    "raw_data = pd.read_csv('mydealz_data.csv',skipinitialspace=True)\n",
    "\n",
    "#creating new feature local_deal\n",
    "local_deal = raw_data['publication_date'].str.find('lokal')\n",
    "raw_data['local_deal'] = np.where(local_deal != -1,True,False)\n",
    "\n",
    "#removing characters from title column\n",
    "raw_data['title'].replace(to_replace='\\n\\t',value='',regex=True,inplace=True)\n",
    "\n",
    "#removing characters from temp1, temp 2, temp 3 column\n",
    "raw_data[['temp1','temp2','temp3']] = raw_data[['temp1','temp2','temp3']].replace(to_replace=['\\n\\t\\t','°\\n\\t','°'],value=['','',''],regex=True)\n",
    "\n",
    "#combining temp1, temp2 and temp3 to one column\n",
    "raw_data['temperature'] = raw_data['temp1'].fillna(raw_data['temp2']).fillna(raw_data['temp3'])\n",
    "\n",
    "#dropping other temp labels afterwards\n",
    "raw_data.drop(labels=['temp1','temp2','temp3'],axis=1)\n",
    "\n",
    "#changing data type to numeric\n",
    "raw_data['temperature'] = pd.to_numeric(raw_data['temperature'])\n",
    "\n",
    "#removing characters from old_price and new_price\n",
    "raw_data[['old_price','new_price']] = raw_data[['old_price','new_price']].replace(to_replace={'€':''},regex=True)\n",
    "raw_data['old_price'] = raw_data['old_price'].str.replace('.','').str.replace(',','.')\n",
    "raw_data['new_price'] = raw_data['new_price'].str.replace('.','').str.replace(',','.').str.replace('KOSTENLOS','0')\n",
    "raw_data['old_price'] = pd.to_numeric(raw_data['old_price'])\n",
    "raw_data['new_price'] = pd.to_numeric(raw_data['new_price'])\n",
    "\n",
    "#calculating discount\n",
    "raw_data['discount'] = (raw_data['old_price']- raw_data['new_price'])/raw_data['old_price']\n",
    "\n",
    "#removing characters from deal link\n",
    "raw_data['deal_link'] = raw_data['deal_link'].str.replace('http://twitter.com/intent/tweet\\?url=','',1)\n",
    "raw_data['deal_link'] = raw_data['deal_link'].str.split('&text').str[0]\n",
    "\n",
    "#removing characters from description\n",
    "raw_data['description'].replace(to_replace=['\\t\\t\\t','\\n'],value=['',''],regex=True,inplace=True)\n",
    "\n",
    "#transforming date\n",
    "abbreviation_dictionary = {\n",
    "        ' Jan':'01',\n",
    "        ' Feb':'02',\n",
    "        ' Mär':'03',\n",
    "        ' Apr':'04',\n",
    "        ' Mai':'05',\n",
    "        ' Jun':'06',\n",
    "        ' Jul':'07',\n",
    "        ' Aug':'08',\n",
    "        ' Sep':'09',\n",
    "        ' Okt':'10',\n",
    "        ' Nov':'11',\n",
    "        ' Dez':'12',\n",
    "    }   \n",
    "\n",
    "def transform_date(x):\n",
    "    if x.find('eingestellt vor') != -1:\n",
    "        return '9.12.2018'\n",
    "    elif x.find('aktualisiert') != -1:\n",
    "        x = x[x.find('eingestellt')+12:x.find(')')]\n",
    "        if len(x) <= 7:\n",
    "            for month,number in abbreviation_dictionary.items():\n",
    "                x = x.replace(month,number+'.2018')\n",
    "            return x\n",
    "        else: \n",
    "            for month,number in abbreviation_dictionary.items():\n",
    "                x = x.replace(month,number+'.')\n",
    "            return x\n",
    "    elif x.find('eingestellt') != -1:\n",
    "        x = x[x.find('eingestellt')+15:]\n",
    "        if len(x) <= 7:\n",
    "            for month,number in abbreviation_dictionary.items():\n",
    "                x = x.replace(month,number+'.2018')\n",
    "            return x\n",
    "        else: \n",
    "            for month,number in abbreviation_dictionary.items():\n",
    "                x = x.replace(month,number+'.')\n",
    "            return x\n",
    "    else:\n",
    "        return x\n",
    "\n",
    "raw_data['publication_date'] = raw_data['publication_date'].apply(transform_date)\n",
    "raw_data['publication_date'] = raw_data['publication_date'].replace(' ','',regex= True)\n",
    "raw_data['publication_date'] = pd.to_datetime(raw_data['publication_date'])\n",
    "\n",
    "#encoding local deal\n",
    "def encoding(x):\n",
    "    if x == True:\n",
    "        return 1\n",
    "    elif x == False:\n",
    "        return 0\n",
    "\n",
    "raw_data['local_deal'] = raw_data['local_deal'].apply(encoding)\n",
    "\n",
    "#creating final data frame\n",
    "mydealz_data = raw_data[['title','temperature','old_price','new_price','discount','username', 'number_of_comments','local_deal','description','publication_date','deal_link',]]\n",
    "\n",
    "#mydealz_data.to_csv('mydealz_final_dataset.csv')"
   ]
  },
  {
   "cell_type": "markdown",
   "metadata": {},
   "source": [
    "# Data Analysis"
   ]
  },
  {
   "cell_type": "markdown",
   "metadata": {},
   "source": [
    "## General Overview"
   ]
  },
  {
   "cell_type": "code",
   "execution_count": 43,
   "metadata": {},
   "outputs": [
    {
     "data": {
      "text/html": [
       "<div>\n",
       "<style scoped>\n",
       "    .dataframe tbody tr th:only-of-type {\n",
       "        vertical-align: middle;\n",
       "    }\n",
       "\n",
       "    .dataframe tbody tr th {\n",
       "        vertical-align: top;\n",
       "    }\n",
       "\n",
       "    .dataframe thead th {\n",
       "        text-align: right;\n",
       "    }\n",
       "</style>\n",
       "<table border=\"1\" class=\"dataframe\">\n",
       "  <thead>\n",
       "    <tr style=\"text-align: right;\">\n",
       "      <th></th>\n",
       "      <th>title</th>\n",
       "      <th>temperature</th>\n",
       "      <th>old_price</th>\n",
       "      <th>new_price</th>\n",
       "      <th>discount</th>\n",
       "      <th>username</th>\n",
       "      <th>number_of_comments</th>\n",
       "      <th>local_deal</th>\n",
       "      <th>description</th>\n",
       "      <th>publication_date</th>\n",
       "      <th>deal_link</th>\n",
       "    </tr>\n",
       "  </thead>\n",
       "  <tbody>\n",
       "    <tr>\n",
       "      <th>0</th>\n",
       "      <td>Seeberger Müsliglück Sunday Morning, 6er Pack (6 x 325 g) [AMAZON Sparabo]</td>\n",
       "      <td>126</td>\n",
       "      <td>11.94</td>\n",
       "      <td>8.54</td>\n",
       "      <td>0.284757</td>\n",
       "      <td>0815Hamster</td>\n",
       "      <td>14</td>\n",
       "      <td>0</td>\n",
       "      <td>Eine Packung kostet sonst mindestens 1,99 €, wenn nicht noch mehr!Andere Sorten sind auch im Angebot.Fruchtige Orangenstückchen und weiße SchokoladeErinnert an das Capri-Eis aus Kindertagen</td>\n",
       "      <td>2018-09-12</td>\n",
       "      <td>https://www.mydealz.de/deals/seeberger-musligluck-sunday-morning-6er-pack-6-x-325-g-amazon-sparabo-1292579</td>\n",
       "    </tr>\n",
       "    <tr>\n",
       "      <th>1</th>\n",
       "      <td>Philips Hue White and Color Ambiance E14 LED Kerze Doppelpack inkl. Hue Dimmschalter, dimmbar, steuerbar via App, für 75,59€ (Amazon)</td>\n",
       "      <td>215</td>\n",
       "      <td>93.94</td>\n",
       "      <td>75.59</td>\n",
       "      <td>0.195337</td>\n",
       "      <td>Funmilka</td>\n",
       "      <td>8</td>\n",
       "      <td>0</td>\n",
       "      <td>Moin,bei Amazon bekommt ihr derzeit als Tagesangebot das Philips Hue White and Color Ambiance E14 LED Kerze Doppelpack inkl. Hue Dimmschalter, dimmbar, steuerbar via App, für 75,59€  inkl. Versandkosten.Preisvergleich: 73,99€ (Doppelpack)Preisvergleich: 43,00€ (Einzelne Lampe)Preisvergleich: 19,95€ (Hue Dimmschalter)Mit unseren Hue Erweiterungen können Sie Ihr Hue System nach Belieben erweitern und das Licht-Erlebnis auf weitere Wohnräume ausweiten. Die White und Color Ambiance Erweiterung ist die Premium-Erweiterung mit allen Funktionalitäten, allen Weißtönen und allen Farben, die das Lichtspektrum zu bieten hat, von einem orangefarbenen warmweißen Licht bis hin zu einem bläulichen kühleren Licht, das dem Tageslicht ähnelt. Den beiliegenden Dimmschalter können Sie an der Wand befestigen und wie einen herkömmlichen Lichtschalter nutzen, oder nach Belieben abnehmen für die Nutzung als Fernbedienung. Erweiterung für das Philips Hue System - 2x Hue LED WiFi Lampe für alle Philips Hue ...</td>\n",
       "      <td>2018-09-12</td>\n",
       "      <td>https://www.mydealz.de/deals/philips-hue-white-and-color-ambiance-e14-led-kerze-doppelpack-inkl-hue-dimmschalter-dimmbar-steuerbar-via-app-fur-7559eur-amazon-1292626</td>\n",
       "    </tr>\n",
       "    <tr>\n",
       "      <th>2</th>\n",
       "      <td>[Regional Mediamarkt Nordhorn-Tagesangebot am 10.12]  Bose SoundTouch 10 / Doppelpack schwarz für 249,-€</td>\n",
       "      <td>103</td>\n",
       "      <td>308.00</td>\n",
       "      <td>249.00</td>\n",
       "      <td>0.191558</td>\n",
       "      <td>The_Old_Dude_aka_Mimic</td>\n",
       "      <td>2</td>\n",
       "      <td>1</td>\n",
       "      <td>Und noch einmal einen schönen 2.Advent für alle die jetzt erst zuschalten. Nur am kommenden Montag bekommt ihr im Mediamarkt Nordhorn das folgende Angebot...► Bose SoundTouch 10 / Doppelpack schwarz für 249,-€◄Idealopreis: 308€ (Einzelkauf von 2 Stück)Denkt an dem Tag daran, auch in den einzelnen Bose Stores nach dem Preis zu fragen!HerstellerBoseProdukttypWLAN Lautsprecher, Bluetooth LautsprecherSerieBose SoundTouchBetriebPrinzipaktivStromversorgungNetzteilAusstattungintegrierte GeräteMP3-Player, USB-PlayerFunktionInternetradio, DLNA, StreamingWiedergabeformateMP3EmpfangsbereichWebradioverfügbarer MusikdienstiTunes, Deezer, SpotifySteuerung überTasten, Fernbedienung, AppSteuerungseigenschaftEin/Aus, Lautstärke, Bluetooth Pairing, AUX-In, 6 Presets für MusikquellenSmartphone Steuerungs-AppBose SoundTouchApp verfügbar füriOS, Android, Mac, WindowsLeistungVerstärkertypdigitalAnschlüsseanaloger EingangLine-In (3,5mm Klinke)digitaler EingangUSBweiterer AnschlussNetzwerkanschluss LAN (R...</td>\n",
       "      <td>2018-09-12</td>\n",
       "      <td>https://www.mydealz.de/deals/regional-mediamarkt-nordhorn-tagesangebot-am-1012-bose-soundtouch-10-doppelpack-schwarz-fur-249-eur-1292649</td>\n",
       "    </tr>\n",
       "  </tbody>\n",
       "</table>\n",
       "</div>"
      ],
      "text/plain": [
       "                                                                                                                                   title  \\\n",
       "0                                                             Seeberger Müsliglück Sunday Morning, 6er Pack (6 x 325 g) [AMAZON Sparabo]   \n",
       "1  Philips Hue White and Color Ambiance E14 LED Kerze Doppelpack inkl. Hue Dimmschalter, dimmbar, steuerbar via App, für 75,59€ (Amazon)   \n",
       "2                               [Regional Mediamarkt Nordhorn-Tagesangebot am 10.12]  Bose SoundTouch 10 / Doppelpack schwarz für 249,-€   \n",
       "\n",
       "   temperature  old_price  new_price  discount                username  \\\n",
       "0          126      11.94       8.54  0.284757             0815Hamster   \n",
       "1          215      93.94      75.59  0.195337                Funmilka   \n",
       "2          103     308.00     249.00  0.191558  The_Old_Dude_aka_Mimic   \n",
       "\n",
       "   number_of_comments  local_deal  \\\n",
       "0                  14           0   \n",
       "1                   8           0   \n",
       "2                   2           1   \n",
       "\n",
       "                                                                                                                                                                                                                                                                                                                                                                                                                                                                                                                                                                                                                                                                                                                                                                                                                                                                                                                                                                                                                               description  \\\n",
       "0                                                                                                                                                                                                                                                                                                                                                                                                                                                                                                                                                                                                                                                                                                                                                                                                                                            Eine Packung kostet sonst mindestens 1,99 €, wenn nicht noch mehr!Andere Sorten sind auch im Angebot.Fruchtige Orangenstückchen und weiße SchokoladeErinnert an das Capri-Eis aus Kindertagen   \n",
       "1  Moin,bei Amazon bekommt ihr derzeit als Tagesangebot das Philips Hue White and Color Ambiance E14 LED Kerze Doppelpack inkl. Hue Dimmschalter, dimmbar, steuerbar via App, für 75,59€  inkl. Versandkosten.Preisvergleich: 73,99€ (Doppelpack)Preisvergleich: 43,00€ (Einzelne Lampe)Preisvergleich: 19,95€ (Hue Dimmschalter)Mit unseren Hue Erweiterungen können Sie Ihr Hue System nach Belieben erweitern und das Licht-Erlebnis auf weitere Wohnräume ausweiten. Die White und Color Ambiance Erweiterung ist die Premium-Erweiterung mit allen Funktionalitäten, allen Weißtönen und allen Farben, die das Lichtspektrum zu bieten hat, von einem orangefarbenen warmweißen Licht bis hin zu einem bläulichen kühleren Licht, das dem Tageslicht ähnelt. Den beiliegenden Dimmschalter können Sie an der Wand befestigen und wie einen herkömmlichen Lichtschalter nutzen, oder nach Belieben abnehmen für die Nutzung als Fernbedienung. Erweiterung für das Philips Hue System - 2x Hue LED WiFi Lampe für alle Philips Hue ...   \n",
       "2  Und noch einmal einen schönen 2.Advent für alle die jetzt erst zuschalten. Nur am kommenden Montag bekommt ihr im Mediamarkt Nordhorn das folgende Angebot...► Bose SoundTouch 10 / Doppelpack schwarz für 249,-€◄Idealopreis: 308€ (Einzelkauf von 2 Stück)Denkt an dem Tag daran, auch in den einzelnen Bose Stores nach dem Preis zu fragen!HerstellerBoseProdukttypWLAN Lautsprecher, Bluetooth LautsprecherSerieBose SoundTouchBetriebPrinzipaktivStromversorgungNetzteilAusstattungintegrierte GeräteMP3-Player, USB-PlayerFunktionInternetradio, DLNA, StreamingWiedergabeformateMP3EmpfangsbereichWebradioverfügbarer MusikdienstiTunes, Deezer, SpotifySteuerung überTasten, Fernbedienung, AppSteuerungseigenschaftEin/Aus, Lautstärke, Bluetooth Pairing, AUX-In, 6 Presets für MusikquellenSmartphone Steuerungs-AppBose SoundTouchApp verfügbar füriOS, Android, Mac, WindowsLeistungVerstärkertypdigitalAnschlüsseanaloger EingangLine-In (3,5mm Klinke)digitaler EingangUSBweiterer AnschlussNetzwerkanschluss LAN (R...   \n",
       "\n",
       "  publication_date  \\\n",
       "0       2018-09-12   \n",
       "1       2018-09-12   \n",
       "2       2018-09-12   \n",
       "\n",
       "                                                                                                                                                               deal_link  \n",
       "0                                                             https://www.mydealz.de/deals/seeberger-musligluck-sunday-morning-6er-pack-6-x-325-g-amazon-sparabo-1292579  \n",
       "1  https://www.mydealz.de/deals/philips-hue-white-and-color-ambiance-e14-led-kerze-doppelpack-inkl-hue-dimmschalter-dimmbar-steuerbar-via-app-fur-7559eur-amazon-1292626  \n",
       "2                               https://www.mydealz.de/deals/regional-mediamarkt-nordhorn-tagesangebot-am-1012-bose-soundtouch-10-doppelpack-schwarz-fur-249-eur-1292649  "
      ]
     },
     "execution_count": 43,
     "metadata": {},
     "output_type": "execute_result"
    }
   ],
   "source": [
    "mydealz_data.head(3)"
   ]
  },
  {
   "cell_type": "code",
   "execution_count": 44,
   "metadata": {},
   "outputs": [
    {
     "data": {
      "text/html": [
       "<div>\n",
       "<style scoped>\n",
       "    .dataframe tbody tr th:only-of-type {\n",
       "        vertical-align: middle;\n",
       "    }\n",
       "\n",
       "    .dataframe tbody tr th {\n",
       "        vertical-align: top;\n",
       "    }\n",
       "\n",
       "    .dataframe thead th {\n",
       "        text-align: right;\n",
       "    }\n",
       "</style>\n",
       "<table border=\"1\" class=\"dataframe\">\n",
       "  <thead>\n",
       "    <tr style=\"text-align: right;\">\n",
       "      <th></th>\n",
       "      <th>temperature</th>\n",
       "      <th>old_price</th>\n",
       "      <th>new_price</th>\n",
       "      <th>discount</th>\n",
       "      <th>number_of_comments</th>\n",
       "      <th>local_deal</th>\n",
       "    </tr>\n",
       "  </thead>\n",
       "  <tbody>\n",
       "    <tr>\n",
       "      <th>count</th>\n",
       "      <td>63415.000000</td>\n",
       "      <td>40862.000000</td>\n",
       "      <td>54968.000000</td>\n",
       "      <td>40862.000000</td>\n",
       "      <td>63415.000000</td>\n",
       "      <td>63415.000000</td>\n",
       "    </tr>\n",
       "    <tr>\n",
       "      <th>mean</th>\n",
       "      <td>532.942884</td>\n",
       "      <td>241.857068</td>\n",
       "      <td>223.439065</td>\n",
       "      <td>0.311186</td>\n",
       "      <td>37.782007</td>\n",
       "      <td>0.123851</td>\n",
       "    </tr>\n",
       "    <tr>\n",
       "      <th>std</th>\n",
       "      <td>694.053675</td>\n",
       "      <td>785.683735</td>\n",
       "      <td>1150.348417</td>\n",
       "      <td>0.203570</td>\n",
       "      <td>166.211209</td>\n",
       "      <td>0.329414</td>\n",
       "    </tr>\n",
       "    <tr>\n",
       "      <th>min</th>\n",
       "      <td>0.000000</td>\n",
       "      <td>0.080000</td>\n",
       "      <td>-920.000000</td>\n",
       "      <td>0.000058</td>\n",
       "      <td>0.000000</td>\n",
       "      <td>0.000000</td>\n",
       "    </tr>\n",
       "    <tr>\n",
       "      <th>25%</th>\n",
       "      <td>236.000000</td>\n",
       "      <td>21.950000</td>\n",
       "      <td>11.420000</td>\n",
       "      <td>0.166290</td>\n",
       "      <td>8.000000</td>\n",
       "      <td>0.000000</td>\n",
       "    </tr>\n",
       "    <tr>\n",
       "      <th>50%</th>\n",
       "      <td>337.000000</td>\n",
       "      <td>63.795000</td>\n",
       "      <td>39.980000</td>\n",
       "      <td>0.256413</td>\n",
       "      <td>16.000000</td>\n",
       "      <td>0.000000</td>\n",
       "    </tr>\n",
       "    <tr>\n",
       "      <th>75%</th>\n",
       "      <td>526.000000</td>\n",
       "      <td>219.900000</td>\n",
       "      <td>169.520000</td>\n",
       "      <td>0.400473</td>\n",
       "      <td>33.000000</td>\n",
       "      <td>0.000000</td>\n",
       "    </tr>\n",
       "    <tr>\n",
       "      <th>max</th>\n",
       "      <td>22386.000000</td>\n",
       "      <td>60000.000000</td>\n",
       "      <td>151080.000000</td>\n",
       "      <td>1.000000</td>\n",
       "      <td>22733.000000</td>\n",
       "      <td>1.000000</td>\n",
       "    </tr>\n",
       "  </tbody>\n",
       "</table>\n",
       "</div>"
      ],
      "text/plain": [
       "        temperature     old_price      new_price      discount  \\\n",
       "count  63415.000000  40862.000000   54968.000000  40862.000000   \n",
       "mean     532.942884    241.857068     223.439065      0.311186   \n",
       "std      694.053675    785.683735    1150.348417      0.203570   \n",
       "min        0.000000      0.080000    -920.000000      0.000058   \n",
       "25%      236.000000     21.950000      11.420000      0.166290   \n",
       "50%      337.000000     63.795000      39.980000      0.256413   \n",
       "75%      526.000000    219.900000     169.520000      0.400473   \n",
       "max    22386.000000  60000.000000  151080.000000      1.000000   \n",
       "\n",
       "       number_of_comments    local_deal  \n",
       "count        63415.000000  63415.000000  \n",
       "mean            37.782007      0.123851  \n",
       "std            166.211209      0.329414  \n",
       "min              0.000000      0.000000  \n",
       "25%              8.000000      0.000000  \n",
       "50%             16.000000      0.000000  \n",
       "75%             33.000000      0.000000  \n",
       "max          22733.000000      1.000000  "
      ]
     },
     "execution_count": 44,
     "metadata": {},
     "output_type": "execute_result"
    }
   ],
   "source": [
    "mydealz_data.describe()"
   ]
  },
  {
   "cell_type": "code",
   "execution_count": 45,
   "metadata": {},
   "outputs": [
    {
     "name": "stdout",
     "output_type": "stream",
     "text": [
      "<class 'pandas.core.frame.DataFrame'>\n",
      "RangeIndex: 63415 entries, 0 to 63414\n",
      "Data columns (total 11 columns):\n",
      "title                 63415 non-null object\n",
      "temperature           63415 non-null int64\n",
      "old_price             40862 non-null float64\n",
      "new_price             54968 non-null float64\n",
      "discount              40862 non-null float64\n",
      "username              63415 non-null object\n",
      "number_of_comments    63415 non-null int64\n",
      "local_deal            63415 non-null int64\n",
      "description           63389 non-null object\n",
      "publication_date      63415 non-null datetime64[ns]\n",
      "deal_link             63415 non-null object\n",
      "dtypes: datetime64[ns](1), float64(3), int64(3), object(4)\n",
      "memory usage: 5.3+ MB\n"
     ]
    }
   ],
   "source": [
    "mydealz_data.info()"
   ]
  },
  {
   "cell_type": "markdown",
   "metadata": {},
   "source": [
    "## Explanatory Data Analysis"
   ]
  },
  {
   "cell_type": "code",
   "execution_count": 6,
   "metadata": {},
   "outputs": [],
   "source": [
    "#Increasing column width for readability\n",
    "pd.set_option('display.max_colwidth',1000)"
   ]
  },
  {
   "cell_type": "markdown",
   "metadata": {},
   "source": [
    "## Deal Temperature"
   ]
  },
  {
   "cell_type": "markdown",
   "metadata": {},
   "source": [
    "How is the overall distribution of the temperature of deals?"
   ]
  },
  {
   "cell_type": "code",
   "execution_count": 7,
   "metadata": {},
   "outputs": [
    {
     "name": "stderr",
     "output_type": "stream",
     "text": [
      "/anaconda3/lib/python3.6/site-packages/matplotlib/axes/_axes.py:6462: UserWarning: The 'normed' kwarg is deprecated, and has been replaced by the 'density' kwarg.\n",
      "  warnings.warn(\"The 'normed' kwarg is deprecated, and has been \"\n"
     ]
    },
    {
     "data": {
      "text/plain": [
       "<matplotlib.axes._subplots.AxesSubplot at 0x114ceaeb8>"
      ]
     },
     "execution_count": 7,
     "metadata": {},
     "output_type": "execute_result"
    },
    {
     "data": {
      "image/png": "[encoded data removed]",
      "text/plain": [
       "<Figure size 432x288 with 1 Axes>"
      ]
     },
     "metadata": {},
     "output_type": "display_data"
    }
   ],
   "source": [
    "sns.distplot(mydealz_data['temperature'],kde=False,bins=30)"
   ]
  },
  {
   "cell_type": "markdown",
   "metadata": {},
   "source": [
    "What is the average deal temperature?"
   ]
  },
  {
   "cell_type": "code",
   "execution_count": 8,
   "metadata": {},
   "outputs": [
    {
     "data": {
      "text/plain": [
       "532.9428841756683"
      ]
     },
     "execution_count": 8,
     "metadata": {},
     "output_type": "execute_result"
    }
   ],
   "source": [
    "mydealz_data['temperature'].mean()"
   ]
  },
  {
   "cell_type": "markdown",
   "metadata": {},
   "source": [
    "What where the top 3 hottest overall deals on MyDealz?"
   ]
  },
  {
   "cell_type": "code",
   "execution_count": 9,
   "metadata": {},
   "outputs": [
    {
     "data": {
      "text/html": [
       "<div>\n",
       "<style scoped>\n",
       "    .dataframe tbody tr th:only-of-type {\n",
       "        vertical-align: middle;\n",
       "    }\n",
       "\n",
       "    .dataframe tbody tr th {\n",
       "        vertical-align: top;\n",
       "    }\n",
       "\n",
       "    .dataframe thead th {\n",
       "        text-align: right;\n",
       "    }\n",
       "</style>\n",
       "<table border=\"1\" class=\"dataframe\">\n",
       "  <thead>\n",
       "    <tr style=\"text-align: right;\">\n",
       "      <th></th>\n",
       "      <th>title</th>\n",
       "      <th>temperature</th>\n",
       "      <th>deal_link</th>\n",
       "      <th>description</th>\n",
       "      <th>publication_date</th>\n",
       "    </tr>\n",
       "  </thead>\n",
       "  <tbody>\n",
       "    <tr>\n",
       "      <th>28810</th>\n",
       "      <td>19%-MwSt-geschenkt-Aktion am 21. und 22.09.2018 bei Media Markt und Saturn on- und offline</td>\n",
       "      <td>22386</td>\n",
       "      <td>https://www.mydealz.de/deals/19-mwst-geschenkt-aktion-am-21-und-22092018-bei-media-markt-und-saturn-on-und-offline-1230945</td>\n",
       "      <td>Bei Media Markt startet am 21 und 22.09.2018 wieder eine 19% MwSt geschenkt Aktion auf alle Artikel .  Z.b  wird  es den GQ65Q9FNG statt für 3059€ für 2477,79€. Das beste Angebot ist bei idealo mit 2639€ also spart über 160€</td>\n",
       "      <td>2018-07-09</td>\n",
       "    </tr>\n",
       "    <tr>\n",
       "      <th>51320</th>\n",
       "      <td>10€ Rabatt ohne MBW (unbegrenzt oft) auf alles bei Amazon durch Spiele-Gutscheinfehler</td>\n",
       "      <td>18021</td>\n",
       "      <td>https://www.mydealz.de/deals/10eur-rabatt-ohne-mbw-unbegrenzt-oft-auf-alles-bei-amazon-durch-spiele-gutscheinfehler-1126286</td>\n",
       "      <td>Auch auf die Gefahr hin, dass nun alles was ich bestellt habe gecancelled wird, hier ein grandioser Deal:Legt ein Spiel bei Amazon in den Einkaufswagen (wichtig, dass es kein Marketplacehändler, sondern Amazon selber ist) und geht zur Kasse.Es werden dann 10€ abgezogen.Ihr könnt jetzt einfach noch ein anderes Produkt in den Warenkorb legen (einzige Bedingung: \"Verkauf und Versand durch Amazon\") und das Spiel dann an der Kasse (also im letzten Bestellschritt) wieder entfernen. Die 10€ Rabatt bleiben bestehen!Somit extrem viele Freebies möglich.Funktioniert sooft man möchte.Auf zwei Accounts getestet.</td>\n",
       "      <td>2018-07-02</td>\n",
       "    </tr>\n",
       "    <tr>\n",
       "      <th>57519</th>\n",
       "      <td>Geleakte Mediamarkt Geschenkkarten Aktion 2016 [20.12. - 21.12.]</td>\n",
       "      <td>17746</td>\n",
       "      <td>https://www.mydealz.de/deals/geleakte-mediamarkt-geschenkkarten-aktion-2016-2012-2112-903656</td>\n",
       "      <td>Ursprünglicher Deal vom 12.12.2016Bisher wurde die Aktion noch nicht veröffentlicht, jedoch sieht es so aus als würde es dieses Jahr wieder eine Geschenkkarten Aktion geben indem man 50€ für eine 60€ Geschenkkarte bei Mediamarkt bezahlt.  Falls es stimmen sollte denke ich mega hot</td>\n",
       "      <td>2016-12-12</td>\n",
       "    </tr>\n",
       "  </tbody>\n",
       "</table>\n",
       "</div>"
      ],
      "text/plain": [
       "                                                                                            title  \\\n",
       "28810  19%-MwSt-geschenkt-Aktion am 21. und 22.09.2018 bei Media Markt und Saturn on- und offline   \n",
       "51320      10€ Rabatt ohne MBW (unbegrenzt oft) auf alles bei Amazon durch Spiele-Gutscheinfehler   \n",
       "57519                            Geleakte Mediamarkt Geschenkkarten Aktion 2016 [20.12. - 21.12.]   \n",
       "\n",
       "       temperature  \\\n",
       "28810        22386   \n",
       "51320        18021   \n",
       "57519        17746   \n",
       "\n",
       "                                                                                                                         deal_link  \\\n",
       "28810   https://www.mydealz.de/deals/19-mwst-geschenkt-aktion-am-21-und-22092018-bei-media-markt-und-saturn-on-und-offline-1230945   \n",
       "51320  https://www.mydealz.de/deals/10eur-rabatt-ohne-mbw-unbegrenzt-oft-auf-alles-bei-amazon-durch-spiele-gutscheinfehler-1126286   \n",
       "57519                                 https://www.mydealz.de/deals/geleakte-mediamarkt-geschenkkarten-aktion-2016-2012-2112-903656   \n",
       "\n",
       "                                                                                                                                                                                                                                                                                                                                                                                                                                                                                                                                                                                                                          description  \\\n",
       "28810                                                                                                                                                                                                                                                                                                                                                                                                Bei Media Markt startet am 21 und 22.09.2018 wieder eine 19% MwSt geschenkt Aktion auf alle Artikel .  Z.b  wird  es den GQ65Q9FNG statt für 3059€ für 2477,79€. Das beste Angebot ist bei idealo mit 2639€ also spart über 160€   \n",
       "51320  Auch auf die Gefahr hin, dass nun alles was ich bestellt habe gecancelled wird, hier ein grandioser Deal:Legt ein Spiel bei Amazon in den Einkaufswagen (wichtig, dass es kein Marketplacehändler, sondern Amazon selber ist) und geht zur Kasse.Es werden dann 10€ abgezogen.Ihr könnt jetzt einfach noch ein anderes Produkt in den Warenkorb legen (einzige Bedingung: \"Verkauf und Versand durch Amazon\") und das Spiel dann an der Kasse (also im letzten Bestellschritt) wieder entfernen. Die 10€ Rabatt bleiben bestehen!Somit extrem viele Freebies möglich.Funktioniert sooft man möchte.Auf zwei Accounts getestet.   \n",
       "57519                                                                                                                                                                                                                                                                                                                                      Ursprünglicher Deal vom 12.12.2016Bisher wurde die Aktion noch nicht veröffentlicht, jedoch sieht es so aus als würde es dieses Jahr wieder eine Geschenkkarten Aktion geben indem man 50€ für eine 60€ Geschenkkarte bei Mediamarkt bezahlt.  Falls es stimmen sollte denke ich mega hot    \n",
       "\n",
       "      publication_date  \n",
       "28810       2018-07-09  \n",
       "51320       2018-07-02  \n",
       "57519       2016-12-12  "
      ]
     },
     "execution_count": 9,
     "metadata": {},
     "output_type": "execute_result"
    }
   ],
   "source": [
    "mydealz_data.sort_values(by='temperature',ascending=False).head(3)[['title','temperature','deal_link','description','publication_date']]"
   ]
  },
  {
   "cell_type": "markdown",
   "metadata": {},
   "source": [
    "What were the top 10 hottest deals in 2018?"
   ]
  },
  {
   "cell_type": "code",
   "execution_count": 10,
   "metadata": {},
   "outputs": [
    {
     "data": {
      "text/html": [
       "<div>\n",
       "<style scoped>\n",
       "    .dataframe tbody tr th:only-of-type {\n",
       "        vertical-align: middle;\n",
       "    }\n",
       "\n",
       "    .dataframe tbody tr th {\n",
       "        vertical-align: top;\n",
       "    }\n",
       "\n",
       "    .dataframe thead th {\n",
       "        text-align: right;\n",
       "    }\n",
       "</style>\n",
       "<table border=\"1\" class=\"dataframe\">\n",
       "  <thead>\n",
       "    <tr style=\"text-align: right;\">\n",
       "      <th></th>\n",
       "      <th>title</th>\n",
       "      <th>temperature</th>\n",
       "      <th>old_price</th>\n",
       "      <th>new_price</th>\n",
       "      <th>discount</th>\n",
       "      <th>username</th>\n",
       "      <th>number_of_comments</th>\n",
       "      <th>local_deal</th>\n",
       "      <th>description</th>\n",
       "      <th>publication_date</th>\n",
       "      <th>deal_link</th>\n",
       "    </tr>\n",
       "  </thead>\n",
       "  <tbody>\n",
       "    <tr>\n",
       "      <th>28810</th>\n",
       "      <td>19%-MwSt-geschenkt-Aktion am 21. und 22.09.2018 bei Media Markt und Saturn on- und offline</td>\n",
       "      <td>22386</td>\n",
       "      <td>NaN</td>\n",
       "      <td>NaN</td>\n",
       "      <td>NaN</td>\n",
       "      <td>Redsoldier</td>\n",
       "      <td>6491</td>\n",
       "      <td>0</td>\n",
       "      <td>Bei Media Markt startet am 21 und 22.09.2018 wieder eine 19% MwSt geschenkt Aktion auf alle Artikel .  Z.b  wird  es den GQ65Q9FNG statt für 3059€ für 2477,79€. Das beste Angebot ist bei idealo mit 2639€ also spart über 160€</td>\n",
       "      <td>2018-07-09</td>\n",
       "      <td>https://www.mydealz.de/deals/19-mwst-geschenkt-aktion-am-21-und-22092018-bei-media-markt-und-saturn-on-und-offline-1230945</td>\n",
       "    </tr>\n",
       "    <tr>\n",
       "      <th>51320</th>\n",
       "      <td>10€ Rabatt ohne MBW (unbegrenzt oft) auf alles bei Amazon durch Spiele-Gutscheinfehler</td>\n",
       "      <td>18021</td>\n",
       "      <td>NaN</td>\n",
       "      <td>NaN</td>\n",
       "      <td>NaN</td>\n",
       "      <td>philippmb</td>\n",
       "      <td>12770</td>\n",
       "      <td>0</td>\n",
       "      <td>Auch auf die Gefahr hin, dass nun alles was ich bestellt habe gecancelled wird, hier ein grandioser Deal:Legt ein Spiel bei Amazon in den Einkaufswagen (wichtig, dass es kein Marketplacehändler, sondern Amazon selber ist) und geht zur Kasse.Es werden dann 10€ abgezogen.Ihr könnt jetzt einfach noch ein anderes Produkt in den Warenkorb legen (einzige Bedingung: \"Verkauf und Versand durch Amazon\") und das Spiel dann an der Kasse (also im letzten Bestellschritt) wieder entfernen. Die 10€ Rabatt bleiben bestehen!Somit extrem viele Freebies möglich.Funktioniert sooft man möchte.Auf zwei Accounts getestet.</td>\n",
       "      <td>2018-07-02</td>\n",
       "      <td>https://www.mydealz.de/deals/10eur-rabatt-ohne-mbw-unbegrenzt-oft-auf-alles-bei-amazon-durch-spiele-gutscheinfehler-1126286</td>\n",
       "    </tr>\n",
       "    <tr>\n",
       "      <th>46065</th>\n",
       "      <td>[REWE] 10% z.B. auf Amazon/MediaMarkt/Saturn Guthaben durch deingutschein, 20% auf C&amp;A, Aktion-Mensch extra Los, KITKAT RUBY</td>\n",
       "      <td>16629</td>\n",
       "      <td>NaN</td>\n",
       "      <td>NaN</td>\n",
       "      <td>NaN</td>\n",
       "      <td>lolnickname</td>\n",
       "      <td>5978</td>\n",
       "      <td>0</td>\n",
       "      <td>Heute ist der letzte Tag!Ab 07.05.2018 bis 12.05.2018 gibt es bei Rewe verschiedene Geschenkkarten reduziert.Die deingutschein Karte ist um 10% reduziert. Diese ist individuell aufladbar von 15 - 150 €. Über diese lässt sich dann z.B. Amazonguthaben bestellen.Außerdem sind C&amp;A Karten um 20% reduziert.Wer ein Aktion–Mensch-Losgutschein kauft erhält auf dem Bon ein zusätzliches Los.Außerdem wird in der Woche das neue KITKAT RUBY im Rewe erhältlich sein.41,5g pro Packung für 1,29€Rewe ist erstmal der einzige Einzelhändler in Deutschland der diese Sorte im Sortiment hat. Quelle</td>\n",
       "      <td>2018-04-24</td>\n",
       "      <td>https://www.mydealz.de/deals/rewe-10-zb-auf-amazonmediamarktsaturn-guthaben-durch-deingutschein-20-auf-ca-aktion-mensch-extra-los-kitkat-ruby-1165005</td>\n",
       "    </tr>\n",
       "    <tr>\n",
       "      <th>51556</th>\n",
       "      <td>McDonalds Tages Coupons ab 22.02</td>\n",
       "      <td>15734</td>\n",
       "      <td>NaN</td>\n",
       "      <td>1.00</td>\n",
       "      <td>NaN</td>\n",
       "      <td>Hr._K</td>\n",
       "      <td>2352</td>\n",
       "      <td>0</td>\n",
       "      <td>Ursprünglicher Deal vom 01.02.2018:Ab dem 22.2 gibt es bei MC Donalds, in ganz Deutschland Tages Coupons, die nur einen Tag Gültigkeit haben. Es beginnt mit Bigmac für 1€ am 1. Tag. Die darauf folgenden Tage seht Ihr im Bild. Die Aktion endet am 25.3. diese Coupons wird es nur in der App geben d.h. Ihr braucht die App!Als kleine \"Goodies\" gibt es an bestimmten Tagen z.b. Socken oder einen Schokohasen.Die Aktion heisst \"Der grosse Oster Countdown\"   Ostern= Fastenzeit 14.2-31.3   Na dann viel Spass beim Fasten.</td>\n",
       "      <td>2018-01-02</td>\n",
       "      <td>https://www.mydealz.de/deals/mcdonalds-tages-coupons-ab-2202-1123254</td>\n",
       "    </tr>\n",
       "    <tr>\n",
       "      <th>39745</th>\n",
       "      <td>24 McNuggets (4x 6er) bei McDonald's mit 6 Saucen für 3€</td>\n",
       "      <td>14729</td>\n",
       "      <td>NaN</td>\n",
       "      <td>3.00</td>\n",
       "      <td>NaN</td>\n",
       "      <td>makuh</td>\n",
       "      <td>1756</td>\n",
       "      <td>0</td>\n",
       "      <td>Mit dem Code 522 bekommt ihr am Bestellterminal 24 Nuggets mit 6 Saucen für nur unglaubliche 3€. Hat bei mir nicht in allen Filialen geklappt (da meinte das Terminal Bestellung sei unvollständig).Am besten direkt am Terminal bezahlen. Wo genau der Code herkommt weiß ich auch nicht. Einlösbar ab 10:30, feiertags 11.30</td>\n",
       "      <td>2018-07-18</td>\n",
       "      <td>https://www.mydealz.de/deals/24-mcnuggets-4x-6er-bei-mcdonalds-mit-6-saucen-fur-3eur-1205104</td>\n",
       "    </tr>\n",
       "    <tr>\n",
       "      <th>24071</th>\n",
       "      <td>*LETZTER TAG* Drillisch Megadeal: kein Anschlusspreis auf monatlich kündbare Verträge: winSIM LTE Allnet 1GB für 6,99€, PremiumSIM LTE 2GB für 6,99€, winSIM LTE Allnet 3GB für 7,99€, PremiumSIM LTE 4GB für 9,99€ uvm.</td>\n",
       "      <td>14097</td>\n",
       "      <td>NaN</td>\n",
       "      <td>6.99</td>\n",
       "      <td>NaN</td>\n",
       "      <td>El_Lorenzo</td>\n",
       "      <td>2323</td>\n",
       "      <td>0</td>\n",
       "      <td>Bei Drillisch kommt hier ein richtiger Knaller reingeflattert. Alle monatlich kündbaren Tarife bei winSIM und PremiumSIM werden ohne Anschlusspreis angeboten und sind zusätzlich 2-3€ günstiger im Monat als sonst. Ich habe es mal nach GB Datenvolumen sortiert  Alle Tarife beinhalten eine Allnet-Flat und laufen im o2-Netz. Bis 2GB Datenvolumen im Vertrag surft ihr noch mit bis zu 21,6 Mbit/s und in den Tarifen ab 3GB Datenvolumen surft ihr dann mit bis zu 50 Mbit/s.■ winSIM LTE All 1 GB:Allnet-Flat1GB      LTE mit bis zu 21,6 MBit/s10€ Bonus bei Rufnummernmitnahme4,99€ 6,99€ monatlich statt 6,99€■ PremiumSIM LTE S:Allnet-Flat2GB LTE mit bis zu 21,6 MBit/s10€ Bonus bei Rufnummernmitnahme6,99€ monatlich statt 8,99€■ winSIM LTE All 3 GB:Allnet-Flat3GB      LTE mit bis zu 50 MBit/s10€ Bonus bei Rufnummernmitnahme7,99€ monatlich statt 9,99€■ PremiumSIM LTE M:Allnet-Flat4GB LTE mit bis zu 50 MBit/s10€ Bonus bei Rufnummernmitnahme9,99€ monatlich statt 12,99€■ winSIM LTE All 5 GB:Allnet-Flat...</td>\n",
       "      <td>2018-09-14</td>\n",
       "      <td>https://www.mydealz.de/deals/letzter-tag-drillisch-megadeal-kein-anschlusspreis-auf-monatlich-kundbare-vertrage-winsim-lte-allnet-1gb-fur-699eur-premiumsim-lte-2gb-fur-699eur-winsim-lte-allnet-3gb-fur-799eur-premiumsim-lte-4gb-fur-999eur-uvm-1234633</td>\n",
       "    </tr>\n",
       "    <tr>\n",
       "      <th>43825</th>\n",
       "      <td>[GRATIS SCHUFA] Kein Eintrag, aber Auskunft! (ab 25.05.2018)</td>\n",
       "      <td>12894</td>\n",
       "      <td>29.95</td>\n",
       "      <td>0.00</td>\n",
       "      <td>1.00000</td>\n",
       "      <td>1337blox</td>\n",
       "      <td>965</td>\n",
       "      <td>0</td>\n",
       "      <td>Hallo ihr lieben Krokos!Wie viele von euch sicherlich mitbekommen haben, tritt die EU-DSGVO am 25.05.2018 in Kraft. Dadurch ist auch die Schufa gezwungen sämtliche Daten die sie über einen hat rauszurücken. Vorbei sind die Zeiten von Geheimnistuerei und Abzocke! Ab dem 25.05.2018 ist nicht nur der Score kostenlos abfragbar, sondern auch sämtliche andere Daten die die Schufa über einen gesammelt hat, ausnahmslos. Ich rufe den 25.05.2018 zum feierlichen GRATIS-SCHUFA-DAY aus. Anfragen über das Kontaktformular: schufa.de/de/…jspAußerdem kann man natürlich auch von seinem Recht auf Vergessenwerden gebrauch nehmen. (Wenn der Score einem nicht passt und man eine neue Chance möchte    )LG Euer Kroko 1337blox</td>\n",
       "      <td>2018-04-20</td>\n",
       "      <td>https://www.mydealz.de/deals/gratis-schufa-kein-eintrag-aber-auskunft-ab-25052018-1163149</td>\n",
       "    </tr>\n",
       "    <tr>\n",
       "      <th>6285</th>\n",
       "      <td>eBay - 5€ Gutschein auf ausgewählte Artikel (Freebies möglich) Sammeldeal</td>\n",
       "      <td>12496</td>\n",
       "      <td>NaN</td>\n",
       "      <td>NaN</td>\n",
       "      <td>NaN</td>\n",
       "      <td>Goboo</td>\n",
       "      <td>1574</td>\n",
       "      <td>0</td>\n",
       "      <td>#Update: Die Aktion wurde bis zum 25.11.2018, 23:59 Uhr verlängert. @teamWie actü bei seinem Deal es angekündigt hat, bekommt ihr bei eBay einen 5€ Gutschein ohne MBW auf ausgewählte Artikel. Freebies sind möglich. Der Gutschein ist 1x einlösbar &amp; gültig am 23.11.2018, 23:59 Uhr. Beispiele findet ihr unten, weitere werde ich hinzufügen. Alle teilnehmende Artikel findet ihr morgen hier: ebay.de/b/Unter-20/bn_7001770716Gutscheincode: PERFECT5Hier ein paar Beispiele mit den Aktuellen Preisen (Gutschein abgezogen):Xiaomi Yeelight E27 10W RGBW intelligente LED Lampe für 12,98€EasyAcc 2nd Gen 10000mAh Dual USB Portable Power Bank Externer Akku Ladegerät für 11,99€Mini Retroflag NESPi NES Style Tasche für Raspberry Pi 3, 2 und B &amp;Computer Case für 11,99€5500mAh Power Case Akku Hülle für Samsung Galaxy S8 Plus Zusatzakku Batterie DE für 11.49€Meme brille Thug Life Brille Deal With It brille Pixel Brille Pixel Sonnenbrille für 0,38€Edelstahlband Armband für Apple Watch iWatch Serie 3 2 1 38...</td>\n",
       "      <td>2018-11-22</td>\n",
       "      <td>https://www.mydealz.de/deals/ebay-5eur-gutschein-auf-ausgewahlte-artikel-freebies-moglich-sammeldeal-1275736</td>\n",
       "    </tr>\n",
       "    <tr>\n",
       "      <th>13464</th>\n",
       "      <td>Big Mac für 1,50€ heute // morgen McFlurry für 1€ - letzte Tage im Herbstkalender von McDonald's</td>\n",
       "      <td>12282</td>\n",
       "      <td>3.99</td>\n",
       "      <td>1.50</td>\n",
       "      <td>0.62406</td>\n",
       "      <td>Moko</td>\n",
       "      <td>585</td>\n",
       "      <td>0</td>\n",
       "      <td>McDonald's startet ab 18.10. unter dem Namen \"Der große McDonald's Herbstkalender\" wieder eine Aktion mit täglich wechselnden Gutscheinen.Die Gutscheine sind nur in der App verfügbar.Alle täglichen Angebote findet ihr in der Ergänzung von El_Lorenzo (siehe unten).Bei der vergangenen Osteraktion war ein Gutschein je Bestellung möglich, McDonald's hat offiziell erlaubt, mehrmals zu bestellen. Teilweise haben es Filialen direkt erlaubt, mehrere Burger zu bestellen. Damals durften Betreiber auch bei den kostenlosen Artikeln keinen Kauf verlangen. Leider haben sich aber nicht alle Franchisenehmer daran gehalten.Falls wieder jemand den vollen Plan hat, darf er ihn gerne leaken.</td>\n",
       "      <td>2018-09-28</td>\n",
       "      <td>https://www.mydealz.de/deals/big-mac-fur-150eur-heute-morgen-mcflurry-fur-1eur-letzte-tage-im-herbstkalender-von-mcdonalds-1241904</td>\n",
       "    </tr>\n",
       "    <tr>\n",
       "      <th>18176</th>\n",
       "      <td>Hummer H2 inkl. Überführungskosten in Höhe von 4,95€ bei Anlieferung</td>\n",
       "      <td>11521</td>\n",
       "      <td>NaN</td>\n",
       "      <td>17.94</td>\n",
       "      <td>NaN</td>\n",
       "      <td>NicNac01</td>\n",
       "      <td>194</td>\n",
       "      <td>0</td>\n",
       "      <td>Update 25.11. Ab dem 26.11. gibt es vom ursprünglichen Angebot nun den kleinen Bruder für 12,99€ zzgl. Überführungskosten von 4,95€. Mit etwas Charme bekommt ihr aber beim Händler eures Vertrauens ein Versandgutschein an der Kasse wenn ihr ganz lieb fragt.Hier mal ein Auto-Deal ohne lästiges Leasing, leider nur in gelb aber mit Top Features. Produktbeschreibung des Anbieters: \"Der starke Hummer H2 mit hammermäßigen 321 PS gehört zu den extremsten Geländefahrzeugen der Welt. Hörst du schon den Motor brüllen?\" Im Weiteren:LED-Scheinwerfer und RückleuchtenFahrverbot ausgeschlossen, da reines ElektrofahrzeugKeine weiteren Kosten für Steuern, Versicherung und Zulassungvorwärts und rückwärts jeweils links-rechts-lenkbarmit 2.4 GHz SteuerungDer Hummer H2 wird zur Haustür geliefert, für die Überführung muss man 4,95€ zahlen.Bei Anschaffung in solchen Dimensionen sind natürlich die Kundenbewertungen wichtig, hier ein paar Stimmen:Auf \"Vorrat\" für meine Enkelkinder gekauft. 3 Jungs, 3 Wagen,...</td>\n",
       "      <td>2018-10-29</td>\n",
       "      <td>https://www.mydealz.de/deals/hummer-h2-inkl-uberfuhrungskosten-in-hohe-von-495eur-bei-anlieferung-1257835</td>\n",
       "    </tr>\n",
       "  </tbody>\n",
       "</table>\n",
       "</div>"
      ],
      "text/plain": [
       "                                                                                                                                                                                                                          title  \\\n",
       "28810                                                                                                                                19%-MwSt-geschenkt-Aktion am 21. und 22.09.2018 bei Media Markt und Saturn on- und offline   \n",
       "51320                                                                                                                                    10€ Rabatt ohne MBW (unbegrenzt oft) auf alles bei Amazon durch Spiele-Gutscheinfehler   \n",
       "46065                                                                                              [REWE] 10% z.B. auf Amazon/MediaMarkt/Saturn Guthaben durch deingutschein, 20% auf C&A, Aktion-Mensch extra Los, KITKAT RUBY   \n",
       "51556                                                                                                                                                                                          McDonalds Tages Coupons ab 22.02   \n",
       "39745                                                                                                                                                                  24 McNuggets (4x 6er) bei McDonald's mit 6 Saucen für 3€   \n",
       "24071  *LETZTER TAG* Drillisch Megadeal: kein Anschlusspreis auf monatlich kündbare Verträge: winSIM LTE Allnet 1GB für 6,99€, PremiumSIM LTE 2GB für 6,99€, winSIM LTE Allnet 3GB für 7,99€, PremiumSIM LTE 4GB für 9,99€ uvm.   \n",
       "43825                                                                                                                                                              [GRATIS SCHUFA] Kein Eintrag, aber Auskunft! (ab 25.05.2018)   \n",
       "6285                                                                                                                                                  eBay - 5€ Gutschein auf ausgewählte Artikel (Freebies möglich) Sammeldeal   \n",
       "13464                                                                                                                          Big Mac für 1,50€ heute // morgen McFlurry für 1€ - letzte Tage im Herbstkalender von McDonald's   \n",
       "18176                                                                                                                                                      Hummer H2 inkl. Überführungskosten in Höhe von 4,95€ bei Anlieferung   \n",
       "\n",
       "       temperature  old_price  new_price  discount     username  \\\n",
       "28810        22386        NaN        NaN       NaN   Redsoldier   \n",
       "51320        18021        NaN        NaN       NaN    philippmb   \n",
       "46065        16629        NaN        NaN       NaN  lolnickname   \n",
       "51556        15734        NaN       1.00       NaN        Hr._K   \n",
       "39745        14729        NaN       3.00       NaN        makuh   \n",
       "24071        14097        NaN       6.99       NaN   El_Lorenzo   \n",
       "43825        12894      29.95       0.00   1.00000     1337blox   \n",
       "6285         12496        NaN        NaN       NaN        Goboo   \n",
       "13464        12282       3.99       1.50   0.62406         Moko   \n",
       "18176        11521        NaN      17.94       NaN     NicNac01   \n",
       "\n",
       "       number_of_comments  local_deal  \\\n",
       "28810                6491           0   \n",
       "51320               12770           0   \n",
       "46065                5978           0   \n",
       "51556                2352           0   \n",
       "39745                1756           0   \n",
       "24071                2323           0   \n",
       "43825                 965           0   \n",
       "6285                 1574           0   \n",
       "13464                 585           0   \n",
       "18176                 194           0   \n",
       "\n",
       "                                                                                                                                                                                                                                                                                                                                                                                                                                                                                                                                                                                                                                                                                                                                                                                                                                                                                                                                                                                                                                   description  \\\n",
       "28810                                                                                                                                                                                                                                                                                                                                                                                                                                                                                                                                                                                                                                                                                                                                                                                                         Bei Media Markt startet am 21 und 22.09.2018 wieder eine 19% MwSt geschenkt Aktion auf alle Artikel .  Z.b  wird  es den GQ65Q9FNG statt für 3059€ für 2477,79€. Das beste Angebot ist bei idealo mit 2639€ also spart über 160€   \n",
       "51320                                                                                                                                                                                                                                                                                                                                                                                                           Auch auf die Gefahr hin, dass nun alles was ich bestellt habe gecancelled wird, hier ein grandioser Deal:Legt ein Spiel bei Amazon in den Einkaufswagen (wichtig, dass es kein Marketplacehändler, sondern Amazon selber ist) und geht zur Kasse.Es werden dann 10€ abgezogen.Ihr könnt jetzt einfach noch ein anderes Produkt in den Warenkorb legen (einzige Bedingung: \"Verkauf und Versand durch Amazon\") und das Spiel dann an der Kasse (also im letzten Bestellschritt) wieder entfernen. Die 10€ Rabatt bleiben bestehen!Somit extrem viele Freebies möglich.Funktioniert sooft man möchte.Auf zwei Accounts getestet.   \n",
       "46065                                                                                                                                                                                                                                                                                                                                                                                                                                     Heute ist der letzte Tag!Ab 07.05.2018 bis 12.05.2018 gibt es bei Rewe verschiedene Geschenkkarten reduziert.Die deingutschein Karte ist um 10% reduziert. Diese ist individuell aufladbar von 15 - 150 €. Über diese lässt sich dann z.B. Amazonguthaben bestellen.Außerdem sind C&A Karten um 20% reduziert.Wer ein Aktion–Mensch-Losgutschein kauft erhält auf dem Bon ein zusätzliches Los.Außerdem wird in der Woche das neue KITKAT RUBY im Rewe erhältlich sein.41,5g pro Packung für 1,29€Rewe ist erstmal der einzige Einzelhändler in Deutschland der diese Sorte im Sortiment hat. Quelle   \n",
       "51556                                                                                                                                                                                                                                                                                                                                                                                                                                                                                                      Ursprünglicher Deal vom 01.02.2018:Ab dem 22.2 gibt es bei MC Donalds, in ganz Deutschland Tages Coupons, die nur einen Tag Gültigkeit haben. Es beginnt mit Bigmac für 1€ am 1. Tag. Die darauf folgenden Tage seht Ihr im Bild. Die Aktion endet am 25.3. diese Coupons wird es nur in der App geben d.h. Ihr braucht die App!Als kleine \"Goodies\" gibt es an bestimmten Tagen z.b. Socken oder einen Schokohasen.Die Aktion heisst \"Der grosse Oster Countdown\"   Ostern= Fastenzeit 14.2-31.3   Na dann viel Spass beim Fasten.   \n",
       "39745                                                                                                                                                                                                                                                                                                                                                                                                                                                                                                                                                                                                                                                                                                           Mit dem Code 522 bekommt ihr am Bestellterminal 24 Nuggets mit 6 Saucen für nur unglaubliche 3€. Hat bei mir nicht in allen Filialen geklappt (da meinte das Terminal Bestellung sei unvollständig).Am besten direkt am Terminal bezahlen. Wo genau der Code herkommt weiß ich auch nicht. Einlösbar ab 10:30, feiertags 11.30   \n",
       "24071  Bei Drillisch kommt hier ein richtiger Knaller reingeflattert. Alle monatlich kündbaren Tarife bei winSIM und PremiumSIM werden ohne Anschlusspreis angeboten und sind zusätzlich 2-3€ günstiger im Monat als sonst. Ich habe es mal nach GB Datenvolumen sortiert  Alle Tarife beinhalten eine Allnet-Flat und laufen im o2-Netz. Bis 2GB Datenvolumen im Vertrag surft ihr noch mit bis zu 21,6 Mbit/s und in den Tarifen ab 3GB Datenvolumen surft ihr dann mit bis zu 50 Mbit/s.■ winSIM LTE All 1 GB:Allnet-Flat1GB      LTE mit bis zu 21,6 MBit/s10€ Bonus bei Rufnummernmitnahme4,99€ 6,99€ monatlich statt 6,99€■ PremiumSIM LTE S:Allnet-Flat2GB LTE mit bis zu 21,6 MBit/s10€ Bonus bei Rufnummernmitnahme6,99€ monatlich statt 8,99€■ winSIM LTE All 3 GB:Allnet-Flat3GB      LTE mit bis zu 50 MBit/s10€ Bonus bei Rufnummernmitnahme7,99€ monatlich statt 9,99€■ PremiumSIM LTE M:Allnet-Flat4GB LTE mit bis zu 50 MBit/s10€ Bonus bei Rufnummernmitnahme9,99€ monatlich statt 12,99€■ winSIM LTE All 5 GB:Allnet-Flat...   \n",
       "43825                                                                                                                                                                                                                                                                                                   Hallo ihr lieben Krokos!Wie viele von euch sicherlich mitbekommen haben, tritt die EU-DSGVO am 25.05.2018 in Kraft. Dadurch ist auch die Schufa gezwungen sämtliche Daten die sie über einen hat rauszurücken. Vorbei sind die Zeiten von Geheimnistuerei und Abzocke! Ab dem 25.05.2018 ist nicht nur der Score kostenlos abfragbar, sondern auch sämtliche andere Daten die die Schufa über einen gesammelt hat, ausnahmslos. Ich rufe den 25.05.2018 zum feierlichen GRATIS-SCHUFA-DAY aus. Anfragen über das Kontaktformular: schufa.de/de/…jspAußerdem kann man natürlich auch von seinem Recht auf Vergessenwerden gebrauch nehmen. (Wenn der Score einem nicht passt und man eine neue Chance möchte    )LG Euer Kroko 1337blox   \n",
       "6285   #Update: Die Aktion wurde bis zum 25.11.2018, 23:59 Uhr verlängert. @teamWie actü bei seinem Deal es angekündigt hat, bekommt ihr bei eBay einen 5€ Gutschein ohne MBW auf ausgewählte Artikel. Freebies sind möglich. Der Gutschein ist 1x einlösbar & gültig am 23.11.2018, 23:59 Uhr. Beispiele findet ihr unten, weitere werde ich hinzufügen. Alle teilnehmende Artikel findet ihr morgen hier: ebay.de/b/Unter-20/bn_7001770716Gutscheincode: PERFECT5Hier ein paar Beispiele mit den Aktuellen Preisen (Gutschein abgezogen):Xiaomi Yeelight E27 10W RGBW intelligente LED Lampe für 12,98€EasyAcc 2nd Gen 10000mAh Dual USB Portable Power Bank Externer Akku Ladegerät für 11,99€Mini Retroflag NESPi NES Style Tasche für Raspberry Pi 3, 2 und B &Computer Case für 11,99€5500mAh Power Case Akku Hülle für Samsung Galaxy S8 Plus Zusatzakku Batterie DE für 11.49€Meme brille Thug Life Brille Deal With It brille Pixel Brille Pixel Sonnenbrille für 0,38€Edelstahlband Armband für Apple Watch iWatch Serie 3 2 1 38...   \n",
       "13464                                                                                                                                                                                                                                                                                                                                 McDonald's startet ab 18.10. unter dem Namen \"Der große McDonald's Herbstkalender\" wieder eine Aktion mit täglich wechselnden Gutscheinen.Die Gutscheine sind nur in der App verfügbar.Alle täglichen Angebote findet ihr in der Ergänzung von El_Lorenzo (siehe unten).Bei der vergangenen Osteraktion war ein Gutschein je Bestellung möglich, McDonald's hat offiziell erlaubt, mehrmals zu bestellen. Teilweise haben es Filialen direkt erlaubt, mehrere Burger zu bestellen. Damals durften Betreiber auch bei den kostenlosen Artikeln keinen Kauf verlangen. Leider haben sich aber nicht alle Franchisenehmer daran gehalten.Falls wieder jemand den vollen Plan hat, darf er ihn gerne leaken.   \n",
       "18176  Update 25.11. Ab dem 26.11. gibt es vom ursprünglichen Angebot nun den kleinen Bruder für 12,99€ zzgl. Überführungskosten von 4,95€. Mit etwas Charme bekommt ihr aber beim Händler eures Vertrauens ein Versandgutschein an der Kasse wenn ihr ganz lieb fragt.Hier mal ein Auto-Deal ohne lästiges Leasing, leider nur in gelb aber mit Top Features. Produktbeschreibung des Anbieters: \"Der starke Hummer H2 mit hammermäßigen 321 PS gehört zu den extremsten Geländefahrzeugen der Welt. Hörst du schon den Motor brüllen?\" Im Weiteren:LED-Scheinwerfer und RückleuchtenFahrverbot ausgeschlossen, da reines ElektrofahrzeugKeine weiteren Kosten für Steuern, Versicherung und Zulassungvorwärts und rückwärts jeweils links-rechts-lenkbarmit 2.4 GHz SteuerungDer Hummer H2 wird zur Haustür geliefert, für die Überführung muss man 4,95€ zahlen.Bei Anschaffung in solchen Dimensionen sind natürlich die Kundenbewertungen wichtig, hier ein paar Stimmen:Auf \"Vorrat\" für meine Enkelkinder gekauft. 3 Jungs, 3 Wagen,...   \n",
       "\n",
       "      publication_date  \\\n",
       "28810       2018-07-09   \n",
       "51320       2018-07-02   \n",
       "46065       2018-04-24   \n",
       "51556       2018-01-02   \n",
       "39745       2018-07-18   \n",
       "24071       2018-09-14   \n",
       "43825       2018-04-20   \n",
       "6285        2018-11-22   \n",
       "13464       2018-09-28   \n",
       "18176       2018-10-29   \n",
       "\n",
       "                                                                                                                                                                                                                                                       deal_link  \n",
       "28810                                                                                                                                 https://www.mydealz.de/deals/19-mwst-geschenkt-aktion-am-21-und-22092018-bei-media-markt-und-saturn-on-und-offline-1230945  \n",
       "51320                                                                                                                                https://www.mydealz.de/deals/10eur-rabatt-ohne-mbw-unbegrenzt-oft-auf-alles-bei-amazon-durch-spiele-gutscheinfehler-1126286  \n",
       "46065                                                                                                      https://www.mydealz.de/deals/rewe-10-zb-auf-amazonmediamarktsaturn-guthaben-durch-deingutschein-20-auf-ca-aktion-mensch-extra-los-kitkat-ruby-1165005  \n",
       "51556                                                                                                                                                                                       https://www.mydealz.de/deals/mcdonalds-tages-coupons-ab-2202-1123254  \n",
       "39745                                                                                                                                                               https://www.mydealz.de/deals/24-mcnuggets-4x-6er-bei-mcdonalds-mit-6-saucen-fur-3eur-1205104  \n",
       "24071  https://www.mydealz.de/deals/letzter-tag-drillisch-megadeal-kein-anschlusspreis-auf-monatlich-kundbare-vertrage-winsim-lte-allnet-1gb-fur-699eur-premiumsim-lte-2gb-fur-699eur-winsim-lte-allnet-3gb-fur-799eur-premiumsim-lte-4gb-fur-999eur-uvm-1234633  \n",
       "43825                                                                                                                                                                  https://www.mydealz.de/deals/gratis-schufa-kein-eintrag-aber-auskunft-ab-25052018-1163149  \n",
       "6285                                                                                                                                                https://www.mydealz.de/deals/ebay-5eur-gutschein-auf-ausgewahlte-artikel-freebies-moglich-sammeldeal-1275736  \n",
       "13464                                                                                                                         https://www.mydealz.de/deals/big-mac-fur-150eur-heute-morgen-mcflurry-fur-1eur-letzte-tage-im-herbstkalender-von-mcdonalds-1241904  \n",
       "18176                                                                                                                                                  https://www.mydealz.de/deals/hummer-h2-inkl-uberfuhrungskosten-in-hohe-von-495eur-bei-anlieferung-1257835  "
      ]
     },
     "execution_count": 10,
     "metadata": {},
     "output_type": "execute_result"
    }
   ],
   "source": [
    "mydealz_data[(mydealz_data['publication_date'] > '01.01.2018') & (mydealz_data['publication_date'] < '31.12.2018')].sort_values(by='temperature',ascending=False).head(10)"
   ]
  },
  {
   "cell_type": "markdown",
   "metadata": {},
   "source": [
    "What were the top 10 hottest deals in 2017?"
   ]
  },
  {
   "cell_type": "code",
   "execution_count": 11,
   "metadata": {},
   "outputs": [
    {
     "data": {
      "text/html": [
       "<div>\n",
       "<style scoped>\n",
       "    .dataframe tbody tr th:only-of-type {\n",
       "        vertical-align: middle;\n",
       "    }\n",
       "\n",
       "    .dataframe tbody tr th {\n",
       "        vertical-align: top;\n",
       "    }\n",
       "\n",
       "    .dataframe thead th {\n",
       "        text-align: right;\n",
       "    }\n",
       "</style>\n",
       "<table border=\"1\" class=\"dataframe\">\n",
       "  <thead>\n",
       "    <tr style=\"text-align: right;\">\n",
       "      <th></th>\n",
       "      <th>title</th>\n",
       "      <th>temperature</th>\n",
       "      <th>old_price</th>\n",
       "      <th>new_price</th>\n",
       "      <th>discount</th>\n",
       "      <th>username</th>\n",
       "      <th>number_of_comments</th>\n",
       "      <th>local_deal</th>\n",
       "      <th>description</th>\n",
       "      <th>publication_date</th>\n",
       "      <th>deal_link</th>\n",
       "    </tr>\n",
       "  </thead>\n",
       "  <tbody>\n",
       "    <tr>\n",
       "      <th>52515</th>\n",
       "      <td>Apple iPhone 6 und neuer - Akku-Tausch bei Apple für 29€</td>\n",
       "      <td>11650</td>\n",
       "      <td>89.00</td>\n",
       "      <td>29.00</td>\n",
       "      <td>0.674157</td>\n",
       "      <td>Evils</td>\n",
       "      <td>1369</td>\n",
       "      <td>0</td>\n",
       "      <td>Apple hat gerade ein Statement veröffentlicht zu den aktuellen News rund um Apple's Akku/CPU Politik.Für diejenigen unter euch die es noch nicht mitbekommen haben, Apple steht in der Kontroverse da die Geschwindigkeit eurer CPU mit alterndem Akku verlangsamt wird.Um vermutlich die öffentliche Meinung etwas zu lindern, bietet Apple daher ab Ende Januar 2018 an, den Akku eures iPhone 6 oder neuer für 29€ statt bisher 89€ zu tauschen. Hier das Statement:apple.com/iph…ce/Edit: Keine Gewähr ob es 29€ oder 39€ sein werden. Hierzu gibt es bisher keine Aussage. Optimistisch hatte ich 29€ angegeben.Edit3: Edit2 wurde gelöscht, daher hier nochmals: Die 29€ für den Akku Tausch wurden von Apple bestätigt. Siehe apple.com/de/…ce/</td>\n",
       "      <td>2017-12-28</td>\n",
       "      <td>https://www.mydealz.de/deals/apple-iphone-6-und-neuer-akku-tausch-bei-apple-fur-29eur-1105015</td>\n",
       "    </tr>\n",
       "    <tr>\n",
       "      <th>55733</th>\n",
       "      <td>Kindle, Echo und Fire Tablets zum Prime Day im Angebot - z.B. Amazon Echo für 99,99€ // 20% Rabatt auf Warehousedeals &amp; Amazon Basics</td>\n",
       "      <td>9543</td>\n",
       "      <td>NaN</td>\n",
       "      <td>NaN</td>\n",
       "      <td>NaN</td>\n",
       "      <td>El_Lorenzo</td>\n",
       "      <td>1405</td>\n",
       "      <td>0</td>\n",
       "      <td>Zum Prime Day, der heute um 18 Uhr auf Amazon startet gibt es schon die ersten Preise, wie Mobiflip berichtet: Besonders krass ist natürlich, dass der Echo für unter 100€ angeboten wird... Zuletzt konnte man ihn mit 50€ Gutschein für 130€ kaufen. Der Preis ist echt der Knaller.Amazon Echo:Amazon Echo Dot für 44,99€ statt 59,99€ - 3287 Bewertungen mit 4,2 SternenDas Echo Dot ist ein sprachgesteuertes Gerät (nennt sich Alexa) mit dem man sich die News vorlesen lassen kann, Musik abspielt, Smart Home Geräte wie z.B. Philips Hue Lampen (oder WeMo, Netatmo, Innogy uvm) steuert und über Bluetooth oder Klinke mit Lautsprechern oder einer Anlage verbunden werden kann. Musik kann von Amazon Music, Spotify oder TuneIn abgespielt werden. Das kleine Teil hat einen eingebauten Lautsprecher, der vollkommen ausreicht, um sich ein Hörbuch zum Einschlafen anzuhören oder sich nebenbei im Badezimmer berieseln zu lassen. Wer richtig Power braucht, der holt sich den Echo, welcher aber keinen Klinke-Aus...</td>\n",
       "      <td>2017-10-07</td>\n",
       "      <td>https://www.mydealz.de/deals/kindle-echo-und-fire-tablets-zum-prime-day-im-angebot-zb-amazon-echo-fur-9999eur-20-rabatt-auf-warehousedeals-amazon-basics-1020892</td>\n",
       "    </tr>\n",
       "    <tr>\n",
       "      <th>53960</th>\n",
       "      <td>[Wieder verfügbar!] 5 € Bonus Cashback bei 10 € MBW via shoop.de [Aktivierung nur heute bis 24:00 Uhr möglich]</td>\n",
       "      <td>9347</td>\n",
       "      <td>NaN</td>\n",
       "      <td>10.00</td>\n",
       "      <td>NaN</td>\n",
       "      <td>Ice_cold</td>\n",
       "      <td>343</td>\n",
       "      <td>0</td>\n",
       "      <td>Hallo liebe MyDealzerInnen, Update 1: Wieder verfügbar!Shoop hat gerade die Early Bird Aktion im Rahmen des Black Friday reaktiviert!Geht auf die Aktionsseite [Deal-Link], betätigt den roten Button und loggt euch bei eurem Shoop Account ein, um eine Vormerkung iHv 5 € zu bekommen. Anschließend tätigt ihr im Zeitraum von 7 Tagen nach Aktivierung des Bonus einen Einkauf über Shoop mit einem MBW von mind. 10 €. Wartet nicht zu lange, da die Aktion limitiert ist. Eine Aktivierung ist laut dem heruntertickenden Timer nur heute bis 24:00 Uhr möglich.Zur Klarstellung: DIe 5 € gibt es zusätzlich zum normalen Cashback.Bei erfolgreicher Aktivierung bekommt ihr eine Bestätigungsmail und seht die Vormerkung \"Bonuszahlung an User\" im Bereich Aktivitäten -&gt; Einkäufe.Anbei noch der Aktionstext:Hole das Maximum aus dem Black Friday 2017 - mit Cashback von Shoop.deKlicke einfach auf den roten Button, um Deinen Bonus zu aktivieren und tätige danach innerhalb von 7 Tagen eine Bestellung in Höhe von m...</td>\n",
       "      <td>2017-11-20</td>\n",
       "      <td>https://www.mydealz.de/deals/wieder-verfugbar-5-eur-bonus-cashback-bei-10-eur-mbw-via-shoopde-aktivierung-nur-heute-bis-2400-uhr-moglich-1075373</td>\n",
       "    </tr>\n",
       "    <tr>\n",
       "      <th>52935</th>\n",
       "      <td>Gratis Pizza für Obdachlose und Hilfebedürfige - Herne HBF - Pizzeria Arena  LOKAL</td>\n",
       "      <td>8432</td>\n",
       "      <td>NaN</td>\n",
       "      <td>NaN</td>\n",
       "      <td>NaN</td>\n",
       "      <td>KNaschke</td>\n",
       "      <td>350</td>\n",
       "      <td>1</td>\n",
       "      <td>Nein Jungs + Mädels, nicht ausnutzen.Nein, kein Usertreffen.Nein, kein Laden stürmen.Die Pizzeria in Herne am HBF gibt an Heiligabend von 14-17 Uhr gratis Pizza an Hilfebedürftige und Obdachlose aus.Pizzeria ArenaBahnhofsplatz 344629 HerneIch wiederhole:Nein Jungs + Mädels, nicht ausnutzen.Nein, kein Usertreffen.Nein, kein Laden stürmen.Meiner Meinung nur eine super Aktion, welche man gerne weitersagen darf, wenn man aus der Region kommt. Natürlich auch nur an Hilfebedürftige etc. die sonst eventuell das Angebot nicht mitbekommen werden.---------------------------------------------------------------------------------------------------------Nachträglich hinzugefügt:Ich erhoffe mir durch das Teilen eventuelle Aktionen in die gleiche Richtung von anderen Imbissen etc.Wenn durch diesen Post nur ein Laden mehr mitmacht, hat es sich mehr als gelohnt.---------------------------------------------------------------------------------------------------------Nachträglich hinzugefügt die Zweite...</td>\n",
       "      <td>2017-12-20</td>\n",
       "      <td>https://www.mydealz.de/deals/gratis-pizza-fur-obdachlose-und-hilfebedurfige-herne-hbf-pizzeria-arena-lokal-1099980</td>\n",
       "    </tr>\n",
       "    <tr>\n",
       "      <th>57103</th>\n",
       "      <td>Jetzt neu! Fast kostenlos versicherte Pakete per DHL verschicken [dank Mitarbeiterfaulheitsrabatt]</td>\n",
       "      <td>8051</td>\n",
       "      <td>NaN</td>\n",
       "      <td>6.99</td>\n",
       "      <td>NaN</td>\n",
       "      <td>freeload</td>\n",
       "      <td>1076</td>\n",
       "      <td>0</td>\n",
       "      <td>Da es so wenige DHL Deals gibt, will ich mal zu dieser Quote ein wenig beitragen. Jeder versucht es sich so einfach wie möglich zu machen. Auch die DHL Mitarbeiter. Durch deren Faulheit ist es möglich kostenlos Pakete zu verschicken.Kostenlos? Naja nicht ganz! Ihr müsst einmalig ein wenig Mühe investieren und Euch ein Versandpaket bauen. Bauen? Ja. Bauen. Dazu benötigt ihr folgendes:- 2 Stunden Zeit- Ein ausreichend großes Paket (max 120x60x60cm)- Zwei Prittstifte (oder Vergleichbares)- 6,99€ bzw. 9,49€ in Kleingeld- Einen Briefmarkenautomaten in der UmgebungWas muss ich jetzt machen?1. Such dir einen Briefmarkenautomaten und zieh dir 0,03€ Marken. Den Betrag musst Du manuell angeben, kannst maximal 100 Briefmarken in einem Vorgang ziehen. Mehrere Automaten beschleunigen den Prozess.2. Für ein Paket bis 5kg innerhalb deutschlands (bis 500€ versichert) brauchst Du 233 x 0,03€ Briefmarken (6,99€). Für ein Paket bis 10kg (bis 500€ versichert) innerhalb deutschlands brauchst du 316x 0,...</td>\n",
       "      <td>2017-01-31</td>\n",
       "      <td>https://www.mydealz.de/deals/jetzt-neu-fast-kostenlos-versicherte-pakete-per-dhl-verschicken-dank-mitarbeiterfaulheitsrabatt-953266</td>\n",
       "    </tr>\n",
       "    <tr>\n",
       "      <th>52898</th>\n",
       "      <td>[Sammeldeal] Online - Adventskalender 2017</td>\n",
       "      <td>7818</td>\n",
       "      <td>NaN</td>\n",
       "      <td>NaN</td>\n",
       "      <td>NaN</td>\n",
       "      <td>black77</td>\n",
       "      <td>612</td>\n",
       "      <td>0</td>\n",
       "      <td>Ursprünglicher Deal vom 27.11.2017:Bald ist es wieder soweit, die Weihnachtszeit kommt mit rießigen Schritten und es heißt wieder bei vielen Shops bald jeden Tag ein Türchen öffnen.Da mittlerweile einige Online-Adventskalender bereits schon in den Startlöchern stehen, möchte ich mit diesem Sammeldeal eine Übersicht über alle aktiv vorhandenen Online - Kalender erstellen.Die kommenden Tage wird es wohl noch mehr werden. Wenn es einen neuen Online-Adventskalender gibt, wäre ich euch dankbar, wenn ihr das hier kurz mit postet. Bitte mit entsprechendem Link. So bleibt die Übersicht immer aktuell!Ein Adventskalender-Skript (wird immer aktualisiert) von User @Hans.Hansen findet ihr unter folgendem Link: goo.gl/sh222JEinfach die Datei für den jeweiligen Browser runterladen und dann durch Doppelklick starten, es werden dabei alle Kalenderseiten jeweils in einem Tab geöffnet. Wenn eine Seite zum Skript hinzugefügt oder gelöscht werden soll, einfach einen Rechtsklick auf die Skript-Datei und...</td>\n",
       "      <td>2017-01-12</td>\n",
       "      <td>https://www.mydealz.de/deals/sammeldeal-online-adventskalender-2017-1078282</td>\n",
       "    </tr>\n",
       "    <tr>\n",
       "      <th>53199</th>\n",
       "      <td>Amazon Fire TV Stick 2 mit Alexa Fernbedienung [Worldshop am 13.12.]</td>\n",
       "      <td>7446</td>\n",
       "      <td>24.99</td>\n",
       "      <td>20.00</td>\n",
       "      <td>0.199680</td>\n",
       "      <td>demichve</td>\n",
       "      <td>411</td>\n",
       "      <td>0</td>\n",
       "      <td>Kam gerade als Newsletter rein, dass auch der Lufthansa WorldShop an den Amazon Aktionspreisen teilnimmt. Damit kostet am 13.12. der Amazon Fire TV Stick 25 Euro. Das Schöne ist, dass aktuell der Versand kostenlos ist und es auch einen 5 Euro Gutschein für die Newsletteranmeldung gibt:worldshop.eu/de/…ter-&gt; Endpreis ist 20 EuroAm besten heute schon anmelden, weil der Gutscheinversand etwas dauern kann.Der Echo Dot ist ja schon seit einiger Zeit im World Shop für 30 Euro bestellbar, siehe mein anderer Deal:mydealz.de/dea…867</td>\n",
       "      <td>2017-12-12</td>\n",
       "      <td>https://www.mydealz.de/deals/amazon-fire-tv-stick-2-mit-alexa-fernbedienung-worldshop-am-1312-1093676</td>\n",
       "    </tr>\n",
       "    <tr>\n",
       "      <th>56080</th>\n",
       "      <td>[Lottoland] 3 Felder 6 aus 49 Gratis auch für Bestandskunden</td>\n",
       "      <td>7303</td>\n",
       "      <td>NaN</td>\n",
       "      <td>NaN</td>\n",
       "      <td>NaN</td>\n",
       "      <td>Rallyass</td>\n",
       "      <td>342</td>\n",
       "      <td>0</td>\n",
       "      <td>Hey,ich hab grad im Netz einen Gutschein für Lottoland gefunden. Es gibt 3 Felder Lotto 6aus49 gratisAngebot geht, im Moment zumindest, auch für Besstandskunden</td>\n",
       "      <td>2017-03-06</td>\n",
       "      <td>https://www.mydealz.de/deals/lottoland-3-felder-6-aus-49-gratis-auch-fur-bestandskunden-1007196</td>\n",
       "    </tr>\n",
       "    <tr>\n",
       "      <th>56430</th>\n",
       "      <td>GameStop PS4 Pro Eintauschaktion</td>\n",
       "      <td>7249</td>\n",
       "      <td>NaN</td>\n",
       "      <td>99.99</td>\n",
       "      <td>NaN</td>\n",
       "      <td>GelöschterUser573021</td>\n",
       "      <td>8453</td>\n",
       "      <td>0</td>\n",
       "      <td>Wieder einmal gibt es bei Gamestop eine Eintauschaktion mit der PS4 Pro ab dem 26.04.2017.Die Konditionen sind recht einfach:Alte PS4 inkl. Controller und zwei Spielen abgeben und eine neue PS4 Pro für 99,99 Euro mitnehmen.&gt;&gt; PVG Link idealo---------------------------------Mal was in eigener Sache:Nachdem ich mir angesehen habe, was in den letzten Tagen passiert ist, möchte ich bei allen GameStop Mitarbeitern entschuldigen. UPDATE 7:Da ja aktuell viele Leute fragen, wann ihre Konsolen eintreffen, hab ich mich auf den Weg gemacht um näheres in Erfahrung zu bringen. Die nächste große Lieferung ist unterwegs (ca. 15.000-20.000 Stück) und soll Mitte nächster Woche (um den 25.5.) in den Stores eintreffen. Also einfach abwarten, bis sich jemand meldet. Die Angestellten in den Läden anzurufen, bringt euch die Konsolen auch nicht schneller.UPDATE 6: Ihr könnt euch ab morgen früh in der GameStop Filiale eure Pro sichern. Die Vorbestellung ist morgen und übermorgen möglich. Danach ist Schlus...</td>\n",
       "      <td>2017-04-23</td>\n",
       "      <td>https://www.mydealz.de/deals/gamestop-ps4-pro-eintauschaktion-991034</td>\n",
       "    </tr>\n",
       "    <tr>\n",
       "      <th>53942</th>\n",
       "      <td>Steam Link für 5,99€ (GameStop)</td>\n",
       "      <td>7217</td>\n",
       "      <td>39.95</td>\n",
       "      <td>5.99</td>\n",
       "      <td>0.850063</td>\n",
       "      <td>Funmilka</td>\n",
       "      <td>774</td>\n",
       "      <td>0</td>\n",
       "      <td>Moinbei GameStop bekommt ihr derzeit den Steam Link für 5,99€ bei Abholung in einer Filiale! Mit versandkosten wären es 9,89€ was aber immer noch ein guter Preis ist.Preisvergleich: 39,95€Spielen Sie Ihre Steam-Spiele mit Steam Link auf jedem Fernseher in Ihrem Haus. Verbinden Sie Steam Link einfach mit Ihrem Fernseher und Ihrem Heimnetzwerk. Jeder Computer mit Steam wird automatisch erkannt. Nehmen Sie sich Ihren Controller und spielen Sie bequem vom Sofa aus.Überblick:1080p Auflösung bei 60 FPS100 Mbit/s Fast Ethernet und Wireless 802.11ac 2x2 (MIMO) Netzwerkfähigkeit3 USB 2.0 AnschlüsseDrahtlose Steam Controller VerbindungsmöglichkeitBluetooth 4.0HDMIUnterstützt:Steam Controller (separat erhältlich), Xbox One oder 360 Wired Controller, Xbox 360 Wireless Controller für Windows, Logitech Wireless Gamepad F710 oder Tastatur und MausLieferumfang:Steam LinkNetzkabel und - adapterHDMI 2.0 KabelEthernet KabelAnforderungen:Ein Hauptcomputer mit SteamOS oder Steam Big Picture Modus auf W...</td>\n",
       "      <td>2017-11-21</td>\n",
       "      <td>https://www.mydealz.de/deals/steam-link-fur-599eur-gamestop-1075814</td>\n",
       "    </tr>\n",
       "  </tbody>\n",
       "</table>\n",
       "</div>"
      ],
      "text/plain": [
       "                                                                                                                                       title  \\\n",
       "52515                                                                               Apple iPhone 6 und neuer - Akku-Tausch bei Apple für 29€   \n",
       "55733  Kindle, Echo und Fire Tablets zum Prime Day im Angebot - z.B. Amazon Echo für 99,99€ // 20% Rabatt auf Warehousedeals & Amazon Basics   \n",
       "53960                         [Wieder verfügbar!] 5 € Bonus Cashback bei 10 € MBW via shoop.de [Aktivierung nur heute bis 24:00 Uhr möglich]   \n",
       "52935                                                     Gratis Pizza für Obdachlose und Hilfebedürfige - Herne HBF - Pizzeria Arena  LOKAL   \n",
       "57103                                     Jetzt neu! Fast kostenlos versicherte Pakete per DHL verschicken [dank Mitarbeiterfaulheitsrabatt]   \n",
       "52898                                                                                             [Sammeldeal] Online - Adventskalender 2017   \n",
       "53199                                                                   Amazon Fire TV Stick 2 mit Alexa Fernbedienung [Worldshop am 13.12.]   \n",
       "56080                                                                           [Lottoland] 3 Felder 6 aus 49 Gratis auch für Bestandskunden   \n",
       "56430                                                                                                       GameStop PS4 Pro Eintauschaktion   \n",
       "53942                                                                                                        Steam Link für 5,99€ (GameStop)   \n",
       "\n",
       "       temperature  old_price  new_price  discount              username  \\\n",
       "52515        11650      89.00      29.00  0.674157                 Evils   \n",
       "55733         9543        NaN        NaN       NaN            El_Lorenzo   \n",
       "53960         9347        NaN      10.00       NaN              Ice_cold   \n",
       "52935         8432        NaN        NaN       NaN              KNaschke   \n",
       "57103         8051        NaN       6.99       NaN              freeload   \n",
       "52898         7818        NaN        NaN       NaN               black77   \n",
       "53199         7446      24.99      20.00  0.199680              demichve   \n",
       "56080         7303        NaN        NaN       NaN              Rallyass   \n",
       "56430         7249        NaN      99.99       NaN  GelöschterUser573021   \n",
       "53942         7217      39.95       5.99  0.850063              Funmilka   \n",
       "\n",
       "       number_of_comments  local_deal  \\\n",
       "52515                1369           0   \n",
       "55733                1405           0   \n",
       "53960                 343           0   \n",
       "52935                 350           1   \n",
       "57103                1076           0   \n",
       "52898                 612           0   \n",
       "53199                 411           0   \n",
       "56080                 342           0   \n",
       "56430                8453           0   \n",
       "53942                 774           0   \n",
       "\n",
       "                                                                                                                                                                                                                                                                                                                                                                                                                                                                                                                                                                                                                                                                                                                                                                                                                                                                                                                                                                                                                                   description  \\\n",
       "52515                                                                                                                                                                                                                                                                                   Apple hat gerade ein Statement veröffentlicht zu den aktuellen News rund um Apple's Akku/CPU Politik.Für diejenigen unter euch die es noch nicht mitbekommen haben, Apple steht in der Kontroverse da die Geschwindigkeit eurer CPU mit alterndem Akku verlangsamt wird.Um vermutlich die öffentliche Meinung etwas zu lindern, bietet Apple daher ab Ende Januar 2018 an, den Akku eures iPhone 6 oder neuer für 29€ statt bisher 89€ zu tauschen. Hier das Statement:apple.com/iph…ce/Edit: Keine Gewähr ob es 29€ oder 39€ sein werden. Hierzu gibt es bisher keine Aussage. Optimistisch hatte ich 29€ angegeben.Edit3: Edit2 wurde gelöscht, daher hier nochmals: Die 29€ für den Akku Tausch wurden von Apple bestätigt. Siehe apple.com/de/…ce/   \n",
       "55733  Zum Prime Day, der heute um 18 Uhr auf Amazon startet gibt es schon die ersten Preise, wie Mobiflip berichtet: Besonders krass ist natürlich, dass der Echo für unter 100€ angeboten wird... Zuletzt konnte man ihn mit 50€ Gutschein für 130€ kaufen. Der Preis ist echt der Knaller.Amazon Echo:Amazon Echo Dot für 44,99€ statt 59,99€ - 3287 Bewertungen mit 4,2 SternenDas Echo Dot ist ein sprachgesteuertes Gerät (nennt sich Alexa) mit dem man sich die News vorlesen lassen kann, Musik abspielt, Smart Home Geräte wie z.B. Philips Hue Lampen (oder WeMo, Netatmo, Innogy uvm) steuert und über Bluetooth oder Klinke mit Lautsprechern oder einer Anlage verbunden werden kann. Musik kann von Amazon Music, Spotify oder TuneIn abgespielt werden. Das kleine Teil hat einen eingebauten Lautsprecher, der vollkommen ausreicht, um sich ein Hörbuch zum Einschlafen anzuhören oder sich nebenbei im Badezimmer berieseln zu lassen. Wer richtig Power braucht, der holt sich den Echo, welcher aber keinen Klinke-Aus...   \n",
       "53960  Hallo liebe MyDealzerInnen, Update 1: Wieder verfügbar!Shoop hat gerade die Early Bird Aktion im Rahmen des Black Friday reaktiviert!Geht auf die Aktionsseite [Deal-Link], betätigt den roten Button und loggt euch bei eurem Shoop Account ein, um eine Vormerkung iHv 5 € zu bekommen. Anschließend tätigt ihr im Zeitraum von 7 Tagen nach Aktivierung des Bonus einen Einkauf über Shoop mit einem MBW von mind. 10 €. Wartet nicht zu lange, da die Aktion limitiert ist. Eine Aktivierung ist laut dem heruntertickenden Timer nur heute bis 24:00 Uhr möglich.Zur Klarstellung: DIe 5 € gibt es zusätzlich zum normalen Cashback.Bei erfolgreicher Aktivierung bekommt ihr eine Bestätigungsmail und seht die Vormerkung \"Bonuszahlung an User\" im Bereich Aktivitäten -> Einkäufe.Anbei noch der Aktionstext:Hole das Maximum aus dem Black Friday 2017 - mit Cashback von Shoop.deKlicke einfach auf den roten Button, um Deinen Bonus zu aktivieren und tätige danach innerhalb von 7 Tagen eine Bestellung in Höhe von m...   \n",
       "52935  Nein Jungs + Mädels, nicht ausnutzen.Nein, kein Usertreffen.Nein, kein Laden stürmen.Die Pizzeria in Herne am HBF gibt an Heiligabend von 14-17 Uhr gratis Pizza an Hilfebedürftige und Obdachlose aus.Pizzeria ArenaBahnhofsplatz 344629 HerneIch wiederhole:Nein Jungs + Mädels, nicht ausnutzen.Nein, kein Usertreffen.Nein, kein Laden stürmen.Meiner Meinung nur eine super Aktion, welche man gerne weitersagen darf, wenn man aus der Region kommt. Natürlich auch nur an Hilfebedürftige etc. die sonst eventuell das Angebot nicht mitbekommen werden.---------------------------------------------------------------------------------------------------------Nachträglich hinzugefügt:Ich erhoffe mir durch das Teilen eventuelle Aktionen in die gleiche Richtung von anderen Imbissen etc.Wenn durch diesen Post nur ein Laden mehr mitmacht, hat es sich mehr als gelohnt.---------------------------------------------------------------------------------------------------------Nachträglich hinzugefügt die Zweite...   \n",
       "57103  Da es so wenige DHL Deals gibt, will ich mal zu dieser Quote ein wenig beitragen. Jeder versucht es sich so einfach wie möglich zu machen. Auch die DHL Mitarbeiter. Durch deren Faulheit ist es möglich kostenlos Pakete zu verschicken.Kostenlos? Naja nicht ganz! Ihr müsst einmalig ein wenig Mühe investieren und Euch ein Versandpaket bauen. Bauen? Ja. Bauen. Dazu benötigt ihr folgendes:- 2 Stunden Zeit- Ein ausreichend großes Paket (max 120x60x60cm)- Zwei Prittstifte (oder Vergleichbares)- 6,99€ bzw. 9,49€ in Kleingeld- Einen Briefmarkenautomaten in der UmgebungWas muss ich jetzt machen?1. Such dir einen Briefmarkenautomaten und zieh dir 0,03€ Marken. Den Betrag musst Du manuell angeben, kannst maximal 100 Briefmarken in einem Vorgang ziehen. Mehrere Automaten beschleunigen den Prozess.2. Für ein Paket bis 5kg innerhalb deutschlands (bis 500€ versichert) brauchst Du 233 x 0,03€ Briefmarken (6,99€). Für ein Paket bis 10kg (bis 500€ versichert) innerhalb deutschlands brauchst du 316x 0,...   \n",
       "52898  Ursprünglicher Deal vom 27.11.2017:Bald ist es wieder soweit, die Weihnachtszeit kommt mit rießigen Schritten und es heißt wieder bei vielen Shops bald jeden Tag ein Türchen öffnen.Da mittlerweile einige Online-Adventskalender bereits schon in den Startlöchern stehen, möchte ich mit diesem Sammeldeal eine Übersicht über alle aktiv vorhandenen Online - Kalender erstellen.Die kommenden Tage wird es wohl noch mehr werden. Wenn es einen neuen Online-Adventskalender gibt, wäre ich euch dankbar, wenn ihr das hier kurz mit postet. Bitte mit entsprechendem Link. So bleibt die Übersicht immer aktuell!Ein Adventskalender-Skript (wird immer aktualisiert) von User @Hans.Hansen findet ihr unter folgendem Link: goo.gl/sh222JEinfach die Datei für den jeweiligen Browser runterladen und dann durch Doppelklick starten, es werden dabei alle Kalenderseiten jeweils in einem Tab geöffnet. Wenn eine Seite zum Skript hinzugefügt oder gelöscht werden soll, einfach einen Rechtsklick auf die Skript-Datei und...   \n",
       "53199                                                                                                                                                                                                                                                                                                                                                                                                                                                                                        Kam gerade als Newsletter rein, dass auch der Lufthansa WorldShop an den Amazon Aktionspreisen teilnimmt. Damit kostet am 13.12. der Amazon Fire TV Stick 25 Euro. Das Schöne ist, dass aktuell der Versand kostenlos ist und es auch einen 5 Euro Gutschein für die Newsletteranmeldung gibt:worldshop.eu/de/…ter-> Endpreis ist 20 EuroAm besten heute schon anmelden, weil der Gutscheinversand etwas dauern kann.Der Echo Dot ist ja schon seit einiger Zeit im World Shop für 30 Euro bestellbar, siehe mein anderer Deal:mydealz.de/dea…867   \n",
       "56080                                                                                                                                                                                                                                                                                                                                                                                                                                                                                                                                                                                                                                                                                                                                                                                                                                                                         Hey,ich hab grad im Netz einen Gutschein für Lottoland gefunden. Es gibt 3 Felder Lotto 6aus49 gratisAngebot geht, im Moment zumindest, auch für Besstandskunden   \n",
       "56430  Wieder einmal gibt es bei Gamestop eine Eintauschaktion mit der PS4 Pro ab dem 26.04.2017.Die Konditionen sind recht einfach:Alte PS4 inkl. Controller und zwei Spielen abgeben und eine neue PS4 Pro für 99,99 Euro mitnehmen.>> PVG Link idealo---------------------------------Mal was in eigener Sache:Nachdem ich mir angesehen habe, was in den letzten Tagen passiert ist, möchte ich bei allen GameStop Mitarbeitern entschuldigen. UPDATE 7:Da ja aktuell viele Leute fragen, wann ihre Konsolen eintreffen, hab ich mich auf den Weg gemacht um näheres in Erfahrung zu bringen. Die nächste große Lieferung ist unterwegs (ca. 15.000-20.000 Stück) und soll Mitte nächster Woche (um den 25.5.) in den Stores eintreffen. Also einfach abwarten, bis sich jemand meldet. Die Angestellten in den Läden anzurufen, bringt euch die Konsolen auch nicht schneller.UPDATE 6: Ihr könnt euch ab morgen früh in der GameStop Filiale eure Pro sichern. Die Vorbestellung ist morgen und übermorgen möglich. Danach ist Schlus...   \n",
       "53942  Moinbei GameStop bekommt ihr derzeit den Steam Link für 5,99€ bei Abholung in einer Filiale! Mit versandkosten wären es 9,89€ was aber immer noch ein guter Preis ist.Preisvergleich: 39,95€Spielen Sie Ihre Steam-Spiele mit Steam Link auf jedem Fernseher in Ihrem Haus. Verbinden Sie Steam Link einfach mit Ihrem Fernseher und Ihrem Heimnetzwerk. Jeder Computer mit Steam wird automatisch erkannt. Nehmen Sie sich Ihren Controller und spielen Sie bequem vom Sofa aus.Überblick:1080p Auflösung bei 60 FPS100 Mbit/s Fast Ethernet und Wireless 802.11ac 2x2 (MIMO) Netzwerkfähigkeit3 USB 2.0 AnschlüsseDrahtlose Steam Controller VerbindungsmöglichkeitBluetooth 4.0HDMIUnterstützt:Steam Controller (separat erhältlich), Xbox One oder 360 Wired Controller, Xbox 360 Wireless Controller für Windows, Logitech Wireless Gamepad F710 oder Tastatur und MausLieferumfang:Steam LinkNetzkabel und - adapterHDMI 2.0 KabelEthernet KabelAnforderungen:Ein Hauptcomputer mit SteamOS oder Steam Big Picture Modus auf W...   \n",
       "\n",
       "      publication_date  \\\n",
       "52515       2017-12-28   \n",
       "55733       2017-10-07   \n",
       "53960       2017-11-20   \n",
       "52935       2017-12-20   \n",
       "57103       2017-01-31   \n",
       "52898       2017-01-12   \n",
       "53199       2017-12-12   \n",
       "56080       2017-03-06   \n",
       "56430       2017-04-23   \n",
       "53942       2017-11-21   \n",
       "\n",
       "                                                                                                                                                              deal_link  \n",
       "52515                                                                     https://www.mydealz.de/deals/apple-iphone-6-und-neuer-akku-tausch-bei-apple-fur-29eur-1105015  \n",
       "55733  https://www.mydealz.de/deals/kindle-echo-und-fire-tablets-zum-prime-day-im-angebot-zb-amazon-echo-fur-9999eur-20-rabatt-auf-warehousedeals-amazon-basics-1020892  \n",
       "53960                  https://www.mydealz.de/deals/wieder-verfugbar-5-eur-bonus-cashback-bei-10-eur-mbw-via-shoopde-aktivierung-nur-heute-bis-2400-uhr-moglich-1075373  \n",
       "52935                                                https://www.mydealz.de/deals/gratis-pizza-fur-obdachlose-und-hilfebedurfige-herne-hbf-pizzeria-arena-lokal-1099980  \n",
       "57103                               https://www.mydealz.de/deals/jetzt-neu-fast-kostenlos-versicherte-pakete-per-dhl-verschicken-dank-mitarbeiterfaulheitsrabatt-953266  \n",
       "52898                                                                                       https://www.mydealz.de/deals/sammeldeal-online-adventskalender-2017-1078282  \n",
       "53199                                                             https://www.mydealz.de/deals/amazon-fire-tv-stick-2-mit-alexa-fernbedienung-worldshop-am-1312-1093676  \n",
       "56080                                                                   https://www.mydealz.de/deals/lottoland-3-felder-6-aus-49-gratis-auch-fur-bestandskunden-1007196  \n",
       "56430                                                                                              https://www.mydealz.de/deals/gamestop-ps4-pro-eintauschaktion-991034  \n",
       "53942                                                                                               https://www.mydealz.de/deals/steam-link-fur-599eur-gamestop-1075814  "
      ]
     },
     "execution_count": 11,
     "metadata": {},
     "output_type": "execute_result"
    }
   ],
   "source": [
    "mydealz_data[(mydealz_data['publication_date'] > '01.01.2017') & (mydealz_data['publication_date'] < '31.12.2017')].sort_values(by='temperature',ascending=False).head(10)"
   ]
  },
  {
   "cell_type": "markdown",
   "metadata": {},
   "source": [
    "Is there a linear relationship between number of comments and temperature?"
   ]
  },
  {
   "cell_type": "code",
   "execution_count": 12,
   "metadata": {},
   "outputs": [
    {
     "name": "stderr",
     "output_type": "stream",
     "text": [
      "/anaconda3/lib/python3.6/site-packages/matplotlib/axes/_axes.py:6462: UserWarning: The 'normed' kwarg is deprecated, and has been replaced by the 'density' kwarg.\n",
      "  warnings.warn(\"The 'normed' kwarg is deprecated, and has been \"\n",
      "/anaconda3/lib/python3.6/site-packages/matplotlib/axes/_axes.py:6462: UserWarning: The 'normed' kwarg is deprecated, and has been replaced by the 'density' kwarg.\n",
      "  warnings.warn(\"The 'normed' kwarg is deprecated, and has been \"\n"
     ]
    },
    {
     "data": {
      "text/plain": [
       "<seaborn.axisgrid.JointGrid at 0x114ce0860>"
      ]
     },
     "execution_count": 12,
     "metadata": {},
     "output_type": "execute_result"
    },
    {
     "data": {
      "image/png": "[encoded data removed]",
      "text/plain": [
       "<Figure size 432x432 with 3 Axes>"
      ]
     },
     "metadata": {},
     "output_type": "display_data"
    }
   ],
   "source": [
    "sns.jointplot(mydealz_data['number_of_comments'],mydealz_data['temperature'])"
   ]
  },
  {
   "cell_type": "markdown",
   "metadata": {},
   "source": [
    "Is there a linear relationship between discount and temperature?"
   ]
  },
  {
   "cell_type": "code",
   "execution_count": 13,
   "metadata": {},
   "outputs": [
    {
     "name": "stderr",
     "output_type": "stream",
     "text": [
      "/anaconda3/lib/python3.6/site-packages/matplotlib/axes/_axes.py:6462: UserWarning: The 'normed' kwarg is deprecated, and has been replaced by the 'density' kwarg.\n",
      "  warnings.warn(\"The 'normed' kwarg is deprecated, and has been \"\n",
      "/anaconda3/lib/python3.6/site-packages/matplotlib/axes/_axes.py:6462: UserWarning: The 'normed' kwarg is deprecated, and has been replaced by the 'density' kwarg.\n",
      "  warnings.warn(\"The 'normed' kwarg is deprecated, and has been \"\n"
     ]
    },
    {
     "data": {
      "text/plain": [
       "<seaborn.axisgrid.JointGrid at 0x1a163145c0>"
      ]
     },
     "execution_count": 13,
     "metadata": {},
     "output_type": "execute_result"
    },
    {
     "data": {
      "image/png": "[encoded data removed]",
      "text/plain": [
       "<Figure size 432x432 with 3 Axes>"
      ]
     },
     "metadata": {},
     "output_type": "display_data"
    }
   ],
   "source": [
    "sns.jointplot(mydealz_data['discount'],mydealz_data['temperature'])"
   ]
  },
  {
   "cell_type": "markdown",
   "metadata": {},
   "source": [
    "## Users"
   ]
  },
  {
   "cell_type": "markdown",
   "metadata": {},
   "source": [
    "How many unique users posted deals for the given time?"
   ]
  },
  {
   "cell_type": "code",
   "execution_count": 14,
   "metadata": {},
   "outputs": [
    {
     "data": {
      "text/plain": [
       "20634"
      ]
     },
     "execution_count": 14,
     "metadata": {},
     "output_type": "execute_result"
    }
   ],
   "source": [
    "mydealz_data['username'].nunique()"
   ]
  },
  {
   "cell_type": "markdown",
   "metadata": {},
   "source": [
    "Who are the users with the most deals?"
   ]
  },
  {
   "cell_type": "code",
   "execution_count": 15,
   "metadata": {},
   "outputs": [
    {
     "data": {
      "text/html": [
       "<div>\n",
       "<style scoped>\n",
       "    .dataframe tbody tr th:only-of-type {\n",
       "        vertical-align: middle;\n",
       "    }\n",
       "\n",
       "    .dataframe tbody tr th {\n",
       "        vertical-align: top;\n",
       "    }\n",
       "\n",
       "    .dataframe thead th {\n",
       "        text-align: right;\n",
       "    }\n",
       "</style>\n",
       "<table border=\"1\" class=\"dataframe\">\n",
       "  <thead>\n",
       "    <tr style=\"text-align: right;\">\n",
       "      <th></th>\n",
       "      <th>title</th>\n",
       "    </tr>\n",
       "    <tr>\n",
       "      <th>username</th>\n",
       "      <th></th>\n",
       "    </tr>\n",
       "  </thead>\n",
       "  <tbody>\n",
       "    <tr>\n",
       "      <th>Funmilka</th>\n",
       "      <td>3235</td>\n",
       "    </tr>\n",
       "    <tr>\n",
       "      <th>Search85</th>\n",
       "      <td>1639</td>\n",
       "    </tr>\n",
       "    <tr>\n",
       "      <th>jamesblond</th>\n",
       "      <td>956</td>\n",
       "    </tr>\n",
       "    <tr>\n",
       "      <th>Alexcio</th>\n",
       "      <td>783</td>\n",
       "    </tr>\n",
       "    <tr>\n",
       "      <th>Xeswinoss</th>\n",
       "      <td>737</td>\n",
       "    </tr>\n",
       "    <tr>\n",
       "      <th>Barney</th>\n",
       "      <td>642</td>\n",
       "    </tr>\n",
       "    <tr>\n",
       "      <th>Xdiavel</th>\n",
       "      <td>571</td>\n",
       "    </tr>\n",
       "    <tr>\n",
       "      <th>Ansomat3000</th>\n",
       "      <td>520</td>\n",
       "    </tr>\n",
       "    <tr>\n",
       "      <th>dani.chii</th>\n",
       "      <td>412</td>\n",
       "    </tr>\n",
       "    <tr>\n",
       "      <th>Pacman68</th>\n",
       "      <td>412</td>\n",
       "    </tr>\n",
       "  </tbody>\n",
       "</table>\n",
       "</div>"
      ],
      "text/plain": [
       "             title\n",
       "username          \n",
       "Funmilka      3235\n",
       "Search85      1639\n",
       "jamesblond     956\n",
       "Alexcio        783\n",
       "Xeswinoss      737\n",
       "Barney         642\n",
       "Xdiavel        571\n",
       "Ansomat3000    520\n",
       "dani.chii      412\n",
       "Pacman68       412"
      ]
     },
     "execution_count": 15,
     "metadata": {},
     "output_type": "execute_result"
    }
   ],
   "source": [
    "mydealz_data[['title','username']].groupby(by='username').count().sort_values(by='title',ascending=False).head(10)"
   ]
  },
  {
   "cell_type": "markdown",
   "metadata": {},
   "source": [
    "## Number of Comments"
   ]
  },
  {
   "cell_type": "markdown",
   "metadata": {},
   "source": [
    "What were the 10 deals with the most comments?"
   ]
  },
  {
   "cell_type": "code",
   "execution_count": 16,
   "metadata": {},
   "outputs": [
    {
     "data": {
      "text/html": [
       "<div>\n",
       "<style scoped>\n",
       "    .dataframe tbody tr th:only-of-type {\n",
       "        vertical-align: middle;\n",
       "    }\n",
       "\n",
       "    .dataframe tbody tr th {\n",
       "        vertical-align: top;\n",
       "    }\n",
       "\n",
       "    .dataframe thead th {\n",
       "        text-align: right;\n",
       "    }\n",
       "</style>\n",
       "<table border=\"1\" class=\"dataframe\">\n",
       "  <thead>\n",
       "    <tr style=\"text-align: right;\">\n",
       "      <th></th>\n",
       "      <th>title</th>\n",
       "      <th>temperature</th>\n",
       "      <th>old_price</th>\n",
       "      <th>new_price</th>\n",
       "      <th>discount</th>\n",
       "      <th>username</th>\n",
       "      <th>number_of_comments</th>\n",
       "      <th>local_deal</th>\n",
       "      <th>description</th>\n",
       "      <th>publication_date</th>\n",
       "      <th>deal_link</th>\n",
       "    </tr>\n",
       "  </thead>\n",
       "  <tbody>\n",
       "    <tr>\n",
       "      <th>58681</th>\n",
       "      <td>Amazon Warehouse Deals Sammelthread</td>\n",
       "      <td>2615</td>\n",
       "      <td>NaN</td>\n",
       "      <td>NaN</td>\n",
       "      <td>NaN</td>\n",
       "      <td>xell1984</td>\n",
       "      <td>22733</td>\n",
       "      <td>0</td>\n",
       "      <td>Heute sind einige WHD Produkte stark im Preis gesunken. Deshalb stelle ich euch ein paar Angebote hier rein. Ich werde die Liste im Laufe des Tages fortlaufend erweitern. Ich verzichte dabei auf Idealo Preisvergleich.Alle Produkte findet ihr im ersten Kommentar. Ihr könnt gerne eure Funde ebenfalls hier einstellen.</td>\n",
       "      <td>2016-05-13</td>\n",
       "      <td>https://www.mydealz.de/deals/amazon-warehouse-deals-sammelthread-726999</td>\n",
       "    </tr>\n",
       "    <tr>\n",
       "      <th>51320</th>\n",
       "      <td>10€ Rabatt ohne MBW (unbegrenzt oft) auf alles bei Amazon durch Spiele-Gutscheinfehler</td>\n",
       "      <td>18021</td>\n",
       "      <td>NaN</td>\n",
       "      <td>NaN</td>\n",
       "      <td>NaN</td>\n",
       "      <td>philippmb</td>\n",
       "      <td>12770</td>\n",
       "      <td>0</td>\n",
       "      <td>Auch auf die Gefahr hin, dass nun alles was ich bestellt habe gecancelled wird, hier ein grandioser Deal:Legt ein Spiel bei Amazon in den Einkaufswagen (wichtig, dass es kein Marketplacehändler, sondern Amazon selber ist) und geht zur Kasse.Es werden dann 10€ abgezogen.Ihr könnt jetzt einfach noch ein anderes Produkt in den Warenkorb legen (einzige Bedingung: \"Verkauf und Versand durch Amazon\") und das Spiel dann an der Kasse (also im letzten Bestellschritt) wieder entfernen. Die 10€ Rabatt bleiben bestehen!Somit extrem viele Freebies möglich.Funktioniert sooft man möchte.Auf zwei Accounts getestet.</td>\n",
       "      <td>2018-07-02</td>\n",
       "      <td>https://www.mydealz.de/deals/10eur-rabatt-ohne-mbw-unbegrenzt-oft-auf-alles-bei-amazon-durch-spiele-gutscheinfehler-1126286</td>\n",
       "    </tr>\n",
       "    <tr>\n",
       "      <th>57617</th>\n",
       "      <td>COMMERZBANK: 200€ Startguthaben - UPDATE: Jetzt live!</td>\n",
       "      <td>8730</td>\n",
       "      <td>NaN</td>\n",
       "      <td>NaN</td>\n",
       "      <td>NaN</td>\n",
       "      <td>ChristophHese</td>\n",
       "      <td>10693</td>\n",
       "      <td>0</td>\n",
       "      <td>UPDATEDie Aktion ist jetzt live! Und somit gehts los mit der Commerzbank und der aktuell höchsten Prämie für ein kostenfreies Girokonto, nämlich 200€ und für diese muss man nicht mal allzu viel tun.CommerzbankKosten: 0€ pro Monat (kostenfrei bei privater Nutzung - komplett ohne Umsatzgrenzen)Besonderheiten: kostenlos Bargeld abheben an allen Cash-Group Automaten (Commerzbank, Deutsche Bank, Postbank, HypoVereinsbank und deren Tochterbanken) und an vielen Shell TankstellenphotoTAN oder mobileTAN stehen zur Auswahlseit dem Relaunch ein sehr gutes Online-Banking InterfaceVideo-Legitimation möglich (so kein nerviger Gang zur Post fürs Post-Ident Verfahren)Die Prämie bekommt man logischerweise nur als Neukunde (kein Commerzbank Konto in den letzten 24 Monaten)Das Konto ist wirklich perfekt für alle, die gerne ein Konto bei einer Filialbank haben wollen. Eine Kreditkarte ist nicht kostenlos dabei, aber dafür gibt es ja zahlreiche andere gute Alternativen.Was auch noch ganz cool ist, dass...</td>\n",
       "      <td>2016-11-24</td>\n",
       "      <td>https://www.mydealz.de/deals/commerzbank-200eur-startguthaben-update-jetzt-live-880496</td>\n",
       "    </tr>\n",
       "    <tr>\n",
       "      <th>57374</th>\n",
       "      <td>(02.-03.01) Mehrwertsteuer geschenkt bei Saturn - 15,97% Rabatt (online und offline) Media Markt Gutscheine einlösbar</td>\n",
       "      <td>17301</td>\n",
       "      <td>NaN</td>\n",
       "      <td>NaN</td>\n",
       "      <td>NaN</td>\n",
       "      <td>GelöschterUser692430</td>\n",
       "      <td>9341</td>\n",
       "      <td>0</td>\n",
       "      <td>Ursprünglicher Deal vom 20.12.2016 - 00:44:So Leute, da heute die Gutschein Aktion beginnt wollt ich euch über einen weiteren Leak-Kracher informieren.Am 02. und 03.1.2017 wird es Bei Saturn eine Mehrwertsteuer  Rabatt Aktion geben. Bei der  ihr 15,966 % sparen könnt.Nach meiner Information auf alles, wobei ich annehme, das Gutscheine und Voucher Cards etc ausgeschlossen sind. Ebenfalls kann ich noch nicht sagen ob es nur offline stattfindet oder auch online. Aber zu 100% offline. Also wer am 27. seine Gutscheine schon einlösen wollte, sollte die paar Tage definitiv noch warten. Ich halte euch auf dem laufenden bei Neuigkeiten. Gerne könnt ihr aber diesen Deal als Sammelthread für besonders gute Schnapper benutzen</td>\n",
       "      <td>2016-12-21</td>\n",
       "      <td>https://www.mydealz.de/deals/02-0301-mehrwertsteuer-geschenkt-bei-saturn-1597-rabatt-online-und-offline-media-markt-gutscheine-einlosbar-914896</td>\n",
       "    </tr>\n",
       "    <tr>\n",
       "      <th>56430</th>\n",
       "      <td>GameStop PS4 Pro Eintauschaktion</td>\n",
       "      <td>7249</td>\n",
       "      <td>NaN</td>\n",
       "      <td>99.99</td>\n",
       "      <td>NaN</td>\n",
       "      <td>GelöschterUser573021</td>\n",
       "      <td>8453</td>\n",
       "      <td>0</td>\n",
       "      <td>Wieder einmal gibt es bei Gamestop eine Eintauschaktion mit der PS4 Pro ab dem 26.04.2017.Die Konditionen sind recht einfach:Alte PS4 inkl. Controller und zwei Spielen abgeben und eine neue PS4 Pro für 99,99 Euro mitnehmen.&gt;&gt; PVG Link idealo---------------------------------Mal was in eigener Sache:Nachdem ich mir angesehen habe, was in den letzten Tagen passiert ist, möchte ich bei allen GameStop Mitarbeitern entschuldigen. UPDATE 7:Da ja aktuell viele Leute fragen, wann ihre Konsolen eintreffen, hab ich mich auf den Weg gemacht um näheres in Erfahrung zu bringen. Die nächste große Lieferung ist unterwegs (ca. 15.000-20.000 Stück) und soll Mitte nächster Woche (um den 25.5.) in den Stores eintreffen. Also einfach abwarten, bis sich jemand meldet. Die Angestellten in den Läden anzurufen, bringt euch die Konsolen auch nicht schneller.UPDATE 6: Ihr könnt euch ab morgen früh in der GameStop Filiale eure Pro sichern. Die Vorbestellung ist morgen und übermorgen möglich. Danach ist Schlus...</td>\n",
       "      <td>2017-04-23</td>\n",
       "      <td>https://www.mydealz.de/deals/gamestop-ps4-pro-eintauschaktion-991034</td>\n",
       "    </tr>\n",
       "    <tr>\n",
       "      <th>42704</th>\n",
       "      <td>Real - WM 2018 Gewinnspiel mit garantierten Sofortgewinnen</td>\n",
       "      <td>4061</td>\n",
       "      <td>NaN</td>\n",
       "      <td>NaN</td>\n",
       "      <td>NaN</td>\n",
       "      <td>vECNO</td>\n",
       "      <td>7401</td>\n",
       "      <td>0</td>\n",
       "      <td>real.de/mar…el/Bei Real läuft seit heute das „WM 2018 Gewinnspiel“. Ich habe gesternden Aufsteller in unserem Real gesehen und heute Abend mit unserenFamilienaccounts mitgemacht.Alle unsere Accounts haben kleinere Sachpreise gewonnen    .Die kleineren Sachpreise bzw. Sofortgewinne sind bei einer Teilnahme wohl garantiert. Mitmachen darf jeder, man benötigt allerdings einenAccount (kann aber im Kundenkonto auch wieder gelöscht werden).Eine Übersicht der Sofortgewinne habe ich leider nicht gefunden. Bei den Sofortgewinnen handelt es sich um Coupons für Gratisartikel.Wir haben bspw. Gratiscoupons für ein Fa. Deo Spray, ein Frosta Schlemmerfilet und eine Dose Krombacher Fassbrause gewonnen.Die Coupons löst man einfach an der Kasse beim Kassiervorgang ein.Jeder Account kann pro Tag einmal teilnehmen. Insgesamt gibt eswohl 1 Millionen Sofortgewinne. Das Gewinnspiel ist selbsterklärend.Anmelden, alle Bilder aufklicken, der Gratiscoupon kommt an eure Mail.Die Coupons sind alle bis zum 21.0...</td>\n",
       "      <td>2018-10-06</td>\n",
       "      <td>https://www.mydealz.de/deals/real-wm-2018-gewinnspiel-mit-garantierten-sofortgewinnen-1186613</td>\n",
       "    </tr>\n",
       "    <tr>\n",
       "      <th>28810</th>\n",
       "      <td>19%-MwSt-geschenkt-Aktion am 21. und 22.09.2018 bei Media Markt und Saturn on- und offline</td>\n",
       "      <td>22386</td>\n",
       "      <td>NaN</td>\n",
       "      <td>NaN</td>\n",
       "      <td>NaN</td>\n",
       "      <td>Redsoldier</td>\n",
       "      <td>6491</td>\n",
       "      <td>0</td>\n",
       "      <td>Bei Media Markt startet am 21 und 22.09.2018 wieder eine 19% MwSt geschenkt Aktion auf alle Artikel .  Z.b  wird  es den GQ65Q9FNG statt für 3059€ für 2477,79€. Das beste Angebot ist bei idealo mit 2639€ also spart über 160€</td>\n",
       "      <td>2018-07-09</td>\n",
       "      <td>https://www.mydealz.de/deals/19-mwst-geschenkt-aktion-am-21-und-22092018-bei-media-markt-und-saturn-on-und-offline-1230945</td>\n",
       "    </tr>\n",
       "    <tr>\n",
       "      <th>46065</th>\n",
       "      <td>[REWE] 10% z.B. auf Amazon/MediaMarkt/Saturn Guthaben durch deingutschein, 20% auf C&amp;A, Aktion-Mensch extra Los, KITKAT RUBY</td>\n",
       "      <td>16629</td>\n",
       "      <td>NaN</td>\n",
       "      <td>NaN</td>\n",
       "      <td>NaN</td>\n",
       "      <td>lolnickname</td>\n",
       "      <td>5978</td>\n",
       "      <td>0</td>\n",
       "      <td>Heute ist der letzte Tag!Ab 07.05.2018 bis 12.05.2018 gibt es bei Rewe verschiedene Geschenkkarten reduziert.Die deingutschein Karte ist um 10% reduziert. Diese ist individuell aufladbar von 15 - 150 €. Über diese lässt sich dann z.B. Amazonguthaben bestellen.Außerdem sind C&amp;A Karten um 20% reduziert.Wer ein Aktion–Mensch-Losgutschein kauft erhält auf dem Bon ein zusätzliches Los.Außerdem wird in der Woche das neue KITKAT RUBY im Rewe erhältlich sein.41,5g pro Packung für 1,29€Rewe ist erstmal der einzige Einzelhändler in Deutschland der diese Sorte im Sortiment hat. Quelle</td>\n",
       "      <td>2018-04-24</td>\n",
       "      <td>https://www.mydealz.de/deals/rewe-10-zb-auf-amazonmediamarktsaturn-guthaben-durch-deingutschein-20-auf-ca-aktion-mensch-extra-los-kitkat-ruby-1165005</td>\n",
       "    </tr>\n",
       "    <tr>\n",
       "      <th>57519</th>\n",
       "      <td>Geleakte Mediamarkt Geschenkkarten Aktion 2016 [20.12. - 21.12.]</td>\n",
       "      <td>17746</td>\n",
       "      <td>NaN</td>\n",
       "      <td>50.00</td>\n",
       "      <td>NaN</td>\n",
       "      <td>MadMark94</td>\n",
       "      <td>5379</td>\n",
       "      <td>0</td>\n",
       "      <td>Ursprünglicher Deal vom 12.12.2016Bisher wurde die Aktion noch nicht veröffentlicht, jedoch sieht es so aus als würde es dieses Jahr wieder eine Geschenkkarten Aktion geben indem man 50€ für eine 60€ Geschenkkarte bei Mediamarkt bezahlt.  Falls es stimmen sollte denke ich mega hot</td>\n",
       "      <td>2016-12-12</td>\n",
       "      <td>https://www.mydealz.de/deals/geleakte-mediamarkt-geschenkkarten-aktion-2016-2012-2112-903656</td>\n",
       "    </tr>\n",
       "    <tr>\n",
       "      <th>23853</th>\n",
       "      <td>Hendrick’s Gin 2x0,7 für 41,99 Euro inkl. Versand mit Shoop 39,17 €</td>\n",
       "      <td>3226</td>\n",
       "      <td>62.0</td>\n",
       "      <td>41.99</td>\n",
       "      <td>0.322742</td>\n",
       "      <td>grappa22</td>\n",
       "      <td>5126</td>\n",
       "      <td>0</td>\n",
       "      <td>Bei von Floerke im Angebot.... auch noch anderer Gin z.B. Monkey für 59,99 zwei Flaschen</td>\n",
       "      <td>2018-09-10</td>\n",
       "      <td>https://www.mydealz.de/deals/hendricks-gin-2x07-fur-4199-euro-inkl-versand-mit-shoop-3917-eur-1247258</td>\n",
       "    </tr>\n",
       "  </tbody>\n",
       "</table>\n",
       "</div>"
      ],
      "text/plain": [
       "                                                                                                                               title  \\\n",
       "58681                                                                                            Amazon Warehouse Deals Sammelthread   \n",
       "51320                                         10€ Rabatt ohne MBW (unbegrenzt oft) auf alles bei Amazon durch Spiele-Gutscheinfehler   \n",
       "57617                                                                          COMMERZBANK: 200€ Startguthaben - UPDATE: Jetzt live!   \n",
       "57374          (02.-03.01) Mehrwertsteuer geschenkt bei Saturn - 15,97% Rabatt (online und offline) Media Markt Gutscheine einlösbar   \n",
       "56430                                                                                               GameStop PS4 Pro Eintauschaktion   \n",
       "42704                                                                     Real - WM 2018 Gewinnspiel mit garantierten Sofortgewinnen   \n",
       "28810                                     19%-MwSt-geschenkt-Aktion am 21. und 22.09.2018 bei Media Markt und Saturn on- und offline   \n",
       "46065   [REWE] 10% z.B. auf Amazon/MediaMarkt/Saturn Guthaben durch deingutschein, 20% auf C&A, Aktion-Mensch extra Los, KITKAT RUBY   \n",
       "57519                                                               Geleakte Mediamarkt Geschenkkarten Aktion 2016 [20.12. - 21.12.]   \n",
       "23853                                                            Hendrick’s Gin 2x0,7 für 41,99 Euro inkl. Versand mit Shoop 39,17 €   \n",
       "\n",
       "       temperature  old_price  new_price  discount              username  \\\n",
       "58681         2615        NaN        NaN       NaN              xell1984   \n",
       "51320        18021        NaN        NaN       NaN             philippmb   \n",
       "57617         8730        NaN        NaN       NaN         ChristophHese   \n",
       "57374        17301        NaN        NaN       NaN  GelöschterUser692430   \n",
       "56430         7249        NaN      99.99       NaN  GelöschterUser573021   \n",
       "42704         4061        NaN        NaN       NaN                 vECNO   \n",
       "28810        22386        NaN        NaN       NaN            Redsoldier   \n",
       "46065        16629        NaN        NaN       NaN           lolnickname   \n",
       "57519        17746        NaN      50.00       NaN             MadMark94   \n",
       "23853         3226       62.0      41.99  0.322742              grappa22   \n",
       "\n",
       "       number_of_comments  local_deal  \\\n",
       "58681               22733           0   \n",
       "51320               12770           0   \n",
       "57617               10693           0   \n",
       "57374                9341           0   \n",
       "56430                8453           0   \n",
       "42704                7401           0   \n",
       "28810                6491           0   \n",
       "46065                5978           0   \n",
       "57519                5379           0   \n",
       "23853                5126           0   \n",
       "\n",
       "                                                                                                                                                                                                                                                                                                                                                                                                                                                                                                                                                                                                                                                                                                                                                                                                                                                                                                                                                                                                                                   description  \\\n",
       "58681                                                                                                                                                                                                                                                                                                                                                                                                                                                                                                                                                                                                                                                                                                             Heute sind einige WHD Produkte stark im Preis gesunken. Deshalb stelle ich euch ein paar Angebote hier rein. Ich werde die Liste im Laufe des Tages fortlaufend erweitern. Ich verzichte dabei auf Idealo Preisvergleich.Alle Produkte findet ihr im ersten Kommentar. Ihr könnt gerne eure Funde ebenfalls hier einstellen.   \n",
       "51320                                                                                                                                                                                                                                                                                                                                                                                                           Auch auf die Gefahr hin, dass nun alles was ich bestellt habe gecancelled wird, hier ein grandioser Deal:Legt ein Spiel bei Amazon in den Einkaufswagen (wichtig, dass es kein Marketplacehändler, sondern Amazon selber ist) und geht zur Kasse.Es werden dann 10€ abgezogen.Ihr könnt jetzt einfach noch ein anderes Produkt in den Warenkorb legen (einzige Bedingung: \"Verkauf und Versand durch Amazon\") und das Spiel dann an der Kasse (also im letzten Bestellschritt) wieder entfernen. Die 10€ Rabatt bleiben bestehen!Somit extrem viele Freebies möglich.Funktioniert sooft man möchte.Auf zwei Accounts getestet.   \n",
       "57617  UPDATEDie Aktion ist jetzt live! Und somit gehts los mit der Commerzbank und der aktuell höchsten Prämie für ein kostenfreies Girokonto, nämlich 200€ und für diese muss man nicht mal allzu viel tun.CommerzbankKosten: 0€ pro Monat (kostenfrei bei privater Nutzung - komplett ohne Umsatzgrenzen)Besonderheiten: kostenlos Bargeld abheben an allen Cash-Group Automaten (Commerzbank, Deutsche Bank, Postbank, HypoVereinsbank und deren Tochterbanken) und an vielen Shell TankstellenphotoTAN oder mobileTAN stehen zur Auswahlseit dem Relaunch ein sehr gutes Online-Banking InterfaceVideo-Legitimation möglich (so kein nerviger Gang zur Post fürs Post-Ident Verfahren)Die Prämie bekommt man logischerweise nur als Neukunde (kein Commerzbank Konto in den letzten 24 Monaten)Das Konto ist wirklich perfekt für alle, die gerne ein Konto bei einer Filialbank haben wollen. Eine Kreditkarte ist nicht kostenlos dabei, aber dafür gibt es ja zahlreiche andere gute Alternativen.Was auch noch ganz cool ist, dass...   \n",
       "57374                                                                                                                                                                                                                                                                                      Ursprünglicher Deal vom 20.12.2016 - 00:44:So Leute, da heute die Gutschein Aktion beginnt wollt ich euch über einen weiteren Leak-Kracher informieren.Am 02. und 03.1.2017 wird es Bei Saturn eine Mehrwertsteuer  Rabatt Aktion geben. Bei der  ihr 15,966 % sparen könnt.Nach meiner Information auf alles, wobei ich annehme, das Gutscheine und Voucher Cards etc ausgeschlossen sind. Ebenfalls kann ich noch nicht sagen ob es nur offline stattfindet oder auch online. Aber zu 100% offline. Also wer am 27. seine Gutscheine schon einlösen wollte, sollte die paar Tage definitiv noch warten. Ich halte euch auf dem laufenden bei Neuigkeiten. Gerne könnt ihr aber diesen Deal als Sammelthread für besonders gute Schnapper benutzen   \n",
       "56430  Wieder einmal gibt es bei Gamestop eine Eintauschaktion mit der PS4 Pro ab dem 26.04.2017.Die Konditionen sind recht einfach:Alte PS4 inkl. Controller und zwei Spielen abgeben und eine neue PS4 Pro für 99,99 Euro mitnehmen.>> PVG Link idealo---------------------------------Mal was in eigener Sache:Nachdem ich mir angesehen habe, was in den letzten Tagen passiert ist, möchte ich bei allen GameStop Mitarbeitern entschuldigen. UPDATE 7:Da ja aktuell viele Leute fragen, wann ihre Konsolen eintreffen, hab ich mich auf den Weg gemacht um näheres in Erfahrung zu bringen. Die nächste große Lieferung ist unterwegs (ca. 15.000-20.000 Stück) und soll Mitte nächster Woche (um den 25.5.) in den Stores eintreffen. Also einfach abwarten, bis sich jemand meldet. Die Angestellten in den Läden anzurufen, bringt euch die Konsolen auch nicht schneller.UPDATE 6: Ihr könnt euch ab morgen früh in der GameStop Filiale eure Pro sichern. Die Vorbestellung ist morgen und übermorgen möglich. Danach ist Schlus...   \n",
       "42704  real.de/mar…el/Bei Real läuft seit heute das „WM 2018 Gewinnspiel“. Ich habe gesternden Aufsteller in unserem Real gesehen und heute Abend mit unserenFamilienaccounts mitgemacht.Alle unsere Accounts haben kleinere Sachpreise gewonnen    .Die kleineren Sachpreise bzw. Sofortgewinne sind bei einer Teilnahme wohl garantiert. Mitmachen darf jeder, man benötigt allerdings einenAccount (kann aber im Kundenkonto auch wieder gelöscht werden).Eine Übersicht der Sofortgewinne habe ich leider nicht gefunden. Bei den Sofortgewinnen handelt es sich um Coupons für Gratisartikel.Wir haben bspw. Gratiscoupons für ein Fa. Deo Spray, ein Frosta Schlemmerfilet und eine Dose Krombacher Fassbrause gewonnen.Die Coupons löst man einfach an der Kasse beim Kassiervorgang ein.Jeder Account kann pro Tag einmal teilnehmen. Insgesamt gibt eswohl 1 Millionen Sofortgewinne. Das Gewinnspiel ist selbsterklärend.Anmelden, alle Bilder aufklicken, der Gratiscoupon kommt an eure Mail.Die Coupons sind alle bis zum 21.0...   \n",
       "28810                                                                                                                                                                                                                                                                                                                                                                                                                                                                                                                                                                                                                                                                                                                                                                                                         Bei Media Markt startet am 21 und 22.09.2018 wieder eine 19% MwSt geschenkt Aktion auf alle Artikel .  Z.b  wird  es den GQ65Q9FNG statt für 3059€ für 2477,79€. Das beste Angebot ist bei idealo mit 2639€ also spart über 160€   \n",
       "46065                                                                                                                                                                                                                                                                                                                                                                                                                                     Heute ist der letzte Tag!Ab 07.05.2018 bis 12.05.2018 gibt es bei Rewe verschiedene Geschenkkarten reduziert.Die deingutschein Karte ist um 10% reduziert. Diese ist individuell aufladbar von 15 - 150 €. Über diese lässt sich dann z.B. Amazonguthaben bestellen.Außerdem sind C&A Karten um 20% reduziert.Wer ein Aktion–Mensch-Losgutschein kauft erhält auf dem Bon ein zusätzliches Los.Außerdem wird in der Woche das neue KITKAT RUBY im Rewe erhältlich sein.41,5g pro Packung für 1,29€Rewe ist erstmal der einzige Einzelhändler in Deutschland der diese Sorte im Sortiment hat. Quelle   \n",
       "57519                                                                                                                                                                                                                                                                                                                                                                                                                                                                                                                                                                                                                                                                                                                                               Ursprünglicher Deal vom 12.12.2016Bisher wurde die Aktion noch nicht veröffentlicht, jedoch sieht es so aus als würde es dieses Jahr wieder eine Geschenkkarten Aktion geben indem man 50€ für eine 60€ Geschenkkarte bei Mediamarkt bezahlt.  Falls es stimmen sollte denke ich mega hot    \n",
       "23853                                                                                                                                                                                                                                                                                                                                                                                                                                                                                                                                                                                                                                                                                                                                                                                                                                                                                                                                                 Bei von Floerke im Angebot.... auch noch anderer Gin z.B. Monkey für 59,99 zwei Flaschen   \n",
       "\n",
       "      publication_date  \\\n",
       "58681       2016-05-13   \n",
       "51320       2018-07-02   \n",
       "57617       2016-11-24   \n",
       "57374       2016-12-21   \n",
       "56430       2017-04-23   \n",
       "42704       2018-10-06   \n",
       "28810       2018-07-09   \n",
       "46065       2018-04-24   \n",
       "57519       2016-12-12   \n",
       "23853       2018-09-10   \n",
       "\n",
       "                                                                                                                                                   deal_link  \n",
       "58681                                                                                https://www.mydealz.de/deals/amazon-warehouse-deals-sammelthread-726999  \n",
       "51320                            https://www.mydealz.de/deals/10eur-rabatt-ohne-mbw-unbegrenzt-oft-auf-alles-bei-amazon-durch-spiele-gutscheinfehler-1126286  \n",
       "57617                                                                 https://www.mydealz.de/deals/commerzbank-200eur-startguthaben-update-jetzt-live-880496  \n",
       "57374        https://www.mydealz.de/deals/02-0301-mehrwertsteuer-geschenkt-bei-saturn-1597-rabatt-online-und-offline-media-markt-gutscheine-einlosbar-914896  \n",
       "56430                                                                                   https://www.mydealz.de/deals/gamestop-ps4-pro-eintauschaktion-991034  \n",
       "42704                                                          https://www.mydealz.de/deals/real-wm-2018-gewinnspiel-mit-garantierten-sofortgewinnen-1186613  \n",
       "28810                             https://www.mydealz.de/deals/19-mwst-geschenkt-aktion-am-21-und-22092018-bei-media-markt-und-saturn-on-und-offline-1230945  \n",
       "46065  https://www.mydealz.de/deals/rewe-10-zb-auf-amazonmediamarktsaturn-guthaben-durch-deingutschein-20-auf-ca-aktion-mensch-extra-los-kitkat-ruby-1165005  \n",
       "57519                                                           https://www.mydealz.de/deals/geleakte-mediamarkt-geschenkkarten-aktion-2016-2012-2112-903656  \n",
       "23853                                                  https://www.mydealz.de/deals/hendricks-gin-2x07-fur-4199-euro-inkl-versand-mit-shoop-3917-eur-1247258  "
      ]
     },
     "execution_count": 16,
     "metadata": {},
     "output_type": "execute_result"
    }
   ],
   "source": [
    "mydealz_data.sort_values('number_of_comments',ascending=False).head(10)"
   ]
  },
  {
   "cell_type": "markdown",
   "metadata": {},
   "source": [
    "## Local Deals"
   ]
  },
  {
   "cell_type": "markdown",
   "metadata": {},
   "source": [
    "Comparison between local and non-local deals"
   ]
  },
  {
   "cell_type": "code",
   "execution_count": 86,
   "metadata": {},
   "outputs": [
    {
     "data": {
      "text/plain": [
       "<matplotlib.axes._subplots.AxesSubplot at 0x1a283b3198>"
      ]
     },
     "execution_count": 86,
     "metadata": {},
     "output_type": "execute_result"
    },
    {
     "data": {
      "image/png": "[encoded data removed]",
      "text/plain": [
       "<Figure size 432x288 with 1 Axes>"
      ]
     },
     "metadata": {},
     "output_type": "display_data"
    }
   ],
   "source": [
    "sns.countplot(mydealz_data['local_deal'])"
   ]
  },
  {
   "cell_type": "markdown",
   "metadata": {},
   "source": [
    "What were the top 3 hottest local deals?"
   ]
  },
  {
   "cell_type": "code",
   "execution_count": 90,
   "metadata": {},
   "outputs": [
    {
     "data": {
      "text/html": [
       "<div>\n",
       "<style scoped>\n",
       "    .dataframe tbody tr th:only-of-type {\n",
       "        vertical-align: middle;\n",
       "    }\n",
       "\n",
       "    .dataframe tbody tr th {\n",
       "        vertical-align: top;\n",
       "    }\n",
       "\n",
       "    .dataframe thead th {\n",
       "        text-align: right;\n",
       "    }\n",
       "</style>\n",
       "<table border=\"1\" class=\"dataframe\">\n",
       "  <thead>\n",
       "    <tr style=\"text-align: right;\">\n",
       "      <th></th>\n",
       "      <th>title</th>\n",
       "      <th>temperature</th>\n",
       "      <th>old_price</th>\n",
       "      <th>new_price</th>\n",
       "      <th>discount</th>\n",
       "      <th>username</th>\n",
       "      <th>number_of_comments</th>\n",
       "      <th>local_deal</th>\n",
       "      <th>description</th>\n",
       "      <th>publication_date</th>\n",
       "      <th>deal_link</th>\n",
       "    </tr>\n",
       "  </thead>\n",
       "  <tbody>\n",
       "    <tr>\n",
       "      <th>24072</th>\n",
       "      <td>Conrad 19% Rabatt auf fast Alles - z.B. iPhone Xs für 935€, Xs Max für 1012,50€</td>\n",
       "      <td>8884</td>\n",
       "      <td>1150.0</td>\n",
       "      <td>935.00</td>\n",
       "      <td>0.186957</td>\n",
       "      <td>Niklas_HVHv</td>\n",
       "      <td>2357</td>\n",
       "      <td>1</td>\n",
       "      <td>Edit: Das Malbuch wird nur noch selten angeboten sollen aber wieder welche kommen am besten vorher erkundigen oder:Jedoch gibt es bis 14.10.2018 15 Fach Payback mit denen ein rechnerischer Rabatt von 7,5% der Kombiniert mit den 10% auf die ConradGutscheinkarten 17,5% ergibt. Hierfür muss über die Paybackapp eingekauft werden. Bitte für weitere Infos hierfür die Kommentare beachten, da ich mich mit Payback nicht so gut auskenne. Ich versuche das hier noch genauer zu machenEdit ende—————Durch die Kombination &amp;lt;strong&amp;gt;der Rewe Geschenkgutscheinrabattaktion&amp;lt;/strong&amp;gt; und dem -10% Malbuch-Rabatt, ergeben sich einige sehr gute Preise bei Conrad, bspw. 935€ für das iPhone Xs 64GB oder 1012,50€ für das iPhone Xs Max‌ 64GB.Ihr müsst wie folgt vorgehen:Einfach bei Rewe Geschenkgutscheine für den Produktpreis -10% kaufen und an der Kasse dank der Aktion -10% auf den Geschenkgutscheinwert sparen. Anschließend zu Conrad, Artikel nehmen, damit zur Kasse und das Heft mit dem -10% Punkte...</td>\n",
       "      <td>2018-08-10</td>\n",
       "      <td>https://www.mydealz.de/deals/conrad-19-rabatt-auf-fast-alles-zb-iphone-xs-fur-935eur-xs-max-fur-101250eur-1246917</td>\n",
       "    </tr>\n",
       "    <tr>\n",
       "      <th>52935</th>\n",
       "      <td>Gratis Pizza für Obdachlose und Hilfebedürfige - Herne HBF - Pizzeria Arena  LOKAL</td>\n",
       "      <td>8432</td>\n",
       "      <td>NaN</td>\n",
       "      <td>NaN</td>\n",
       "      <td>NaN</td>\n",
       "      <td>KNaschke</td>\n",
       "      <td>350</td>\n",
       "      <td>1</td>\n",
       "      <td>Nein Jungs + Mädels, nicht ausnutzen.Nein, kein Usertreffen.Nein, kein Laden stürmen.Die Pizzeria in Herne am HBF gibt an Heiligabend von 14-17 Uhr gratis Pizza an Hilfebedürftige und Obdachlose aus.Pizzeria ArenaBahnhofsplatz 344629 HerneIch wiederhole:Nein Jungs + Mädels, nicht ausnutzen.Nein, kein Usertreffen.Nein, kein Laden stürmen.Meiner Meinung nur eine super Aktion, welche man gerne weitersagen darf, wenn man aus der Region kommt. Natürlich auch nur an Hilfebedürftige etc. die sonst eventuell das Angebot nicht mitbekommen werden.---------------------------------------------------------------------------------------------------------Nachträglich hinzugefügt:Ich erhoffe mir durch das Teilen eventuelle Aktionen in die gleiche Richtung von anderen Imbissen etc.Wenn durch diesen Post nur ein Laden mehr mitmacht, hat es sich mehr als gelohnt.---------------------------------------------------------------------------------------------------------Nachträglich hinzugefügt die Zweite...</td>\n",
       "      <td>2017-12-20</td>\n",
       "      <td>https://www.mydealz.de/deals/gratis-pizza-fur-obdachlose-und-hilfebedurfige-herne-hbf-pizzeria-arena-lokal-1099980</td>\n",
       "    </tr>\n",
       "    <tr>\n",
       "      <th>47586</th>\n",
       "      <td>[Lokal][McDonald's] Big Mac mit 10 Patties (5xFleisch) für 3,99 (450g Fleisch)</td>\n",
       "      <td>7474</td>\n",
       "      <td>NaN</td>\n",
       "      <td>3.99</td>\n",
       "      <td>NaN</td>\n",
       "      <td>AdmiralPPR</td>\n",
       "      <td>613</td>\n",
       "      <td>1</td>\n",
       "      <td>Hallo liebe Community,beim Big Mac Jubiläum haben wir zufällig entdeckt, dass zusätzliches Beef für 50cent bestellt werden kann. Hinzu kommt, dass \"1xBeef\" beim Big Mac offenkundig 2 Patties entspricht.(evtl. nur lokal in Aschaffenburg - bestellt am self service terminal)Da man maximal 4 Zutaten extra bestellen kann, macht das 5 mal Beef auf dem Big Mac. Das macht insgesamt 10 Patties für 3,99Auch nett sind z.B. 2 Big Macs mit je 4 Patties für insg. 4,98Lasst gerne einen Kommentar da, wenn ihr es ausprobiert habt, ob es bei euch funktioniert hat.Update: Es scheint wohl Zufall zu sein, ob man doppelt Patties bekommt.Schaut am besten in die Kommentare, in welchen Filialen es geht!PS: Mein erster Deal - Anregungen willkommen ^^</td>\n",
       "      <td>2018-04-04</td>\n",
       "      <td>https://www.mydealz.de/deals/lokalmcdonalds-big-mac-mit-10-patties-5xfleisch-fur-399-450g-fleisch-1155652</td>\n",
       "    </tr>\n",
       "  </tbody>\n",
       "</table>\n",
       "</div>"
      ],
      "text/plain": [
       "                                                                                    title  \\\n",
       "24072     Conrad 19% Rabatt auf fast Alles - z.B. iPhone Xs für 935€, Xs Max für 1012,50€   \n",
       "52935  Gratis Pizza für Obdachlose und Hilfebedürfige - Herne HBF - Pizzeria Arena  LOKAL   \n",
       "47586      [Lokal][McDonald's] Big Mac mit 10 Patties (5xFleisch) für 3,99 (450g Fleisch)   \n",
       "\n",
       "       temperature  old_price  new_price  discount     username  \\\n",
       "24072         8884     1150.0     935.00  0.186957  Niklas_HVHv   \n",
       "52935         8432        NaN        NaN       NaN     KNaschke   \n",
       "47586         7474        NaN       3.99       NaN   AdmiralPPR   \n",
       "\n",
       "       number_of_comments  local_deal  \\\n",
       "24072                2357           1   \n",
       "52935                 350           1   \n",
       "47586                 613           1   \n",
       "\n",
       "                                                                                                                                                                                                                                                                                                                                                                                                                                                                                                                                                                                                                                                                                                                                                                                                                                                                                                                                                                                                                                   description  \\\n",
       "24072  Edit: Das Malbuch wird nur noch selten angeboten sollen aber wieder welche kommen am besten vorher erkundigen oder:Jedoch gibt es bis 14.10.2018 15 Fach Payback mit denen ein rechnerischer Rabatt von 7,5% der Kombiniert mit den 10% auf die ConradGutscheinkarten 17,5% ergibt. Hierfür muss über die Paybackapp eingekauft werden. Bitte für weitere Infos hierfür die Kommentare beachten, da ich mich mit Payback nicht so gut auskenne. Ich versuche das hier noch genauer zu machenEdit ende—————Durch die Kombination &lt;strong&gt;der Rewe Geschenkgutscheinrabattaktion&lt;/strong&gt; und dem -10% Malbuch-Rabatt, ergeben sich einige sehr gute Preise bei Conrad, bspw. 935€ für das iPhone Xs 64GB oder 1012,50€ für das iPhone Xs Max‌ 64GB.Ihr müsst wie folgt vorgehen:Einfach bei Rewe Geschenkgutscheine für den Produktpreis -10% kaufen und an der Kasse dank der Aktion -10% auf den Geschenkgutscheinwert sparen. Anschließend zu Conrad, Artikel nehmen, damit zur Kasse und das Heft mit dem -10% Punkte...   \n",
       "52935  Nein Jungs + Mädels, nicht ausnutzen.Nein, kein Usertreffen.Nein, kein Laden stürmen.Die Pizzeria in Herne am HBF gibt an Heiligabend von 14-17 Uhr gratis Pizza an Hilfebedürftige und Obdachlose aus.Pizzeria ArenaBahnhofsplatz 344629 HerneIch wiederhole:Nein Jungs + Mädels, nicht ausnutzen.Nein, kein Usertreffen.Nein, kein Laden stürmen.Meiner Meinung nur eine super Aktion, welche man gerne weitersagen darf, wenn man aus der Region kommt. Natürlich auch nur an Hilfebedürftige etc. die sonst eventuell das Angebot nicht mitbekommen werden.---------------------------------------------------------------------------------------------------------Nachträglich hinzugefügt:Ich erhoffe mir durch das Teilen eventuelle Aktionen in die gleiche Richtung von anderen Imbissen etc.Wenn durch diesen Post nur ein Laden mehr mitmacht, hat es sich mehr als gelohnt.---------------------------------------------------------------------------------------------------------Nachträglich hinzugefügt die Zweite...   \n",
       "47586                                                                                                                                                                                                                                                                           Hallo liebe Community,beim Big Mac Jubiläum haben wir zufällig entdeckt, dass zusätzliches Beef für 50cent bestellt werden kann. Hinzu kommt, dass \"1xBeef\" beim Big Mac offenkundig 2 Patties entspricht.(evtl. nur lokal in Aschaffenburg - bestellt am self service terminal)Da man maximal 4 Zutaten extra bestellen kann, macht das 5 mal Beef auf dem Big Mac. Das macht insgesamt 10 Patties für 3,99Auch nett sind z.B. 2 Big Macs mit je 4 Patties für insg. 4,98Lasst gerne einen Kommentar da, wenn ihr es ausprobiert habt, ob es bei euch funktioniert hat.Update: Es scheint wohl Zufall zu sein, ob man doppelt Patties bekommt.Schaut am besten in die Kommentare, in welchen Filialen es geht!PS: Mein erster Deal - Anregungen willkommen ^^   \n",
       "\n",
       "      publication_date  \\\n",
       "24072       2018-08-10   \n",
       "52935       2017-12-20   \n",
       "47586       2018-04-04   \n",
       "\n",
       "                                                                                                                deal_link  \n",
       "24072   https://www.mydealz.de/deals/conrad-19-rabatt-auf-fast-alles-zb-iphone-xs-fur-935eur-xs-max-fur-101250eur-1246917  \n",
       "52935  https://www.mydealz.de/deals/gratis-pizza-fur-obdachlose-und-hilfebedurfige-herne-hbf-pizzeria-arena-lokal-1099980  \n",
       "47586           https://www.mydealz.de/deals/lokalmcdonalds-big-mac-mit-10-patties-5xfleisch-fur-399-450g-fleisch-1155652  "
      ]
     },
     "execution_count": 90,
     "metadata": {},
     "output_type": "execute_result"
    }
   ],
   "source": [
    "mydealz_data[mydealz_data['local_deal'] == 1].sort_values(by='temperature',ascending=False).head(3)"
   ]
  },
  {
   "cell_type": "markdown",
   "metadata": {},
   "source": [
    "# Linear Regreession"
   ]
  },
  {
   "cell_type": "code",
   "execution_count": 93,
   "metadata": {
    "scrolled": true
   },
   "outputs": [
    {
     "name": "stdout",
     "output_type": "stream",
     "text": [
      "MAE: 288.5794455008757\n",
      "MSE: 271741.7692924544\n",
      "RMSE: 521.2885662399036\n"
     ]
    },
    {
     "name": "stderr",
     "output_type": "stream",
     "text": [
      "/anaconda3/lib/python3.6/site-packages/matplotlib/axes/_axes.py:6462: UserWarning: The 'normed' kwarg is deprecated, and has been replaced by the 'density' kwarg.\n",
      "  warnings.warn(\"The 'normed' kwarg is deprecated, and has been \"\n"
     ]
    },
    {
     "data": {
      "text/plain": [
       "<matplotlib.collections.PathCollection at 0x1a282d7550>"
      ]
     },
     "execution_count": 93,
     "metadata": {},
     "output_type": "execute_result"
    },
    {
     "data": {
      "image/png": "[encoded data removed]",
      "text/plain": [
       "<Figure size 432x288 with 1 Axes>"
      ]
     },
     "metadata": {},
     "output_type": "display_data"
    }
   ],
   "source": [
    "from sklearn.linear_model import LinearRegression\n",
    "\n",
    "#removing NaN values\n",
    "no_missing_values = mydealz_data.dropna(axis=0)\n",
    "\n",
    "#selecting featurees\n",
    "X = no_missing_values[['old_price','new_price','discount']]\n",
    "y = no_missing_values['temperature']\n",
    "\n",
    "#splittting data\n",
    "X_train, X_test, y_train, y_test = train_test_split(X, y, test_size=0.33, random_state=42)\n",
    "\n",
    "#creeating model\n",
    "linear_regression = LinearRegression()\n",
    "linear_regression.fit(X_train,y_train)\n",
    "predictions = linear_regression.predict(X_test)\n",
    "\n",
    "#evaluating model\n",
    "print('MAE:', metrics.mean_absolute_error(y_test, predictions))\n",
    "print('MSE:', metrics.mean_squared_error(y_test, predictions))\n",
    "print('RMSE:', np.sqrt(metrics.mean_squared_error(y_test, predictions)))\n",
    "\n",
    "sns.distplot((y_test-predictions),bins=50)\n",
    "plt.scatter(y_test,predictions)"
   ]
  },
  {
   "cell_type": "markdown",
   "metadata": {},
   "source": [
    "# Natural Language Processing"
   ]
  },
  {
   "cell_type": "markdown",
   "metadata": {},
   "source": [
    "## Classifying different deals into classes"
   ]
  },
  {
   "cell_type": "code",
   "execution_count": 147,
   "metadata": {},
   "outputs": [],
   "source": [
    "def temperature_classification(temp):  \n",
    "        if temp < 500:\n",
    "            temp = 1\n",
    "            return temp\n",
    "        elif temp < 750:\n",
    "            temp = 2\n",
    "            return temp\n",
    "        elif temp < 1000:\n",
    "            temp = 2\n",
    "            return temp\n",
    "        elif temp < 2000:\n",
    "            temp = 3\n",
    "            return temp\n",
    "        elif temp < 4000:\n",
    "            temp = 4\n",
    "            return temp\n",
    "        elif temp < 8000:\n",
    "            temp = 5\n",
    "            return temp\n",
    "        elif temp > 8000:\n",
    "            temp = 6\n",
    "            return temp"
   ]
  },
  {
   "cell_type": "code",
   "execution_count": 148,
   "metadata": {},
   "outputs": [
    {
     "name": "stderr",
     "output_type": "stream",
     "text": [
      "/anaconda3/lib/python3.6/site-packages/ipykernel_launcher.py:1: SettingWithCopyWarning: \n",
      "A value is trying to be set on a copy of a slice from a DataFrame.\n",
      "Try using .loc[row_indexer,col_indexer] = value instead\n",
      "\n",
      "See the caveats in the documentation: http://pandas.pydata.org/pandas-docs/stable/indexing.html#indexing-view-versus-copy\n",
      "  \"\"\"Entry point for launching an IPython kernel.\n"
     ]
    }
   ],
   "source": [
    "mydealz_data['temperature_encoded'] = mydealz_data['temperature'].apply(temperature_classification)"
   ]
  },
  {
   "cell_type": "code",
   "execution_count": 149,
   "metadata": {},
   "outputs": [
    {
     "data": {
      "text/html": [
       "<div>\n",
       "<style scoped>\n",
       "    .dataframe tbody tr th:only-of-type {\n",
       "        vertical-align: middle;\n",
       "    }\n",
       "\n",
       "    .dataframe tbody tr th {\n",
       "        vertical-align: top;\n",
       "    }\n",
       "\n",
       "    .dataframe thead th {\n",
       "        text-align: right;\n",
       "    }\n",
       "</style>\n",
       "<table border=\"1\" class=\"dataframe\">\n",
       "  <thead>\n",
       "    <tr style=\"text-align: right;\">\n",
       "      <th></th>\n",
       "      <th>title</th>\n",
       "      <th>temperature</th>\n",
       "      <th>old_price</th>\n",
       "      <th>new_price</th>\n",
       "      <th>discount</th>\n",
       "      <th>username</th>\n",
       "      <th>number_of_comments</th>\n",
       "      <th>local_deal</th>\n",
       "      <th>description</th>\n",
       "      <th>publication_date</th>\n",
       "      <th>deal_link</th>\n",
       "    </tr>\n",
       "    <tr>\n",
       "      <th>temperature_encoded</th>\n",
       "      <th></th>\n",
       "      <th></th>\n",
       "      <th></th>\n",
       "      <th></th>\n",
       "      <th></th>\n",
       "      <th></th>\n",
       "      <th></th>\n",
       "      <th></th>\n",
       "      <th></th>\n",
       "      <th></th>\n",
       "      <th></th>\n",
       "    </tr>\n",
       "  </thead>\n",
       "  <tbody>\n",
       "    <tr>\n",
       "      <th>1</th>\n",
       "      <td>46411</td>\n",
       "      <td>46411</td>\n",
       "      <td>31049</td>\n",
       "      <td>41110</td>\n",
       "      <td>31049</td>\n",
       "      <td>46411</td>\n",
       "      <td>46411</td>\n",
       "      <td>46411</td>\n",
       "      <td>46390</td>\n",
       "      <td>46411</td>\n",
       "      <td>46411</td>\n",
       "    </tr>\n",
       "    <tr>\n",
       "      <th>2</th>\n",
       "      <td>10212</td>\n",
       "      <td>10212</td>\n",
       "      <td>6244</td>\n",
       "      <td>8585</td>\n",
       "      <td>6244</td>\n",
       "      <td>10212</td>\n",
       "      <td>10212</td>\n",
       "      <td>10212</td>\n",
       "      <td>10208</td>\n",
       "      <td>10212</td>\n",
       "      <td>10212</td>\n",
       "    </tr>\n",
       "    <tr>\n",
       "      <th>3</th>\n",
       "      <td>4574</td>\n",
       "      <td>4574</td>\n",
       "      <td>2558</td>\n",
       "      <td>3752</td>\n",
       "      <td>2558</td>\n",
       "      <td>4574</td>\n",
       "      <td>4574</td>\n",
       "      <td>4574</td>\n",
       "      <td>4573</td>\n",
       "      <td>4574</td>\n",
       "      <td>4574</td>\n",
       "    </tr>\n",
       "    <tr>\n",
       "      <th>4</th>\n",
       "      <td>1836</td>\n",
       "      <td>1836</td>\n",
       "      <td>903</td>\n",
       "      <td>1317</td>\n",
       "      <td>903</td>\n",
       "      <td>1836</td>\n",
       "      <td>1836</td>\n",
       "      <td>1836</td>\n",
       "      <td>1836</td>\n",
       "      <td>1836</td>\n",
       "      <td>1836</td>\n",
       "    </tr>\n",
       "    <tr>\n",
       "      <th>5</th>\n",
       "      <td>322</td>\n",
       "      <td>322</td>\n",
       "      <td>95</td>\n",
       "      <td>177</td>\n",
       "      <td>95</td>\n",
       "      <td>322</td>\n",
       "      <td>322</td>\n",
       "      <td>322</td>\n",
       "      <td>322</td>\n",
       "      <td>322</td>\n",
       "      <td>322</td>\n",
       "    </tr>\n",
       "    <tr>\n",
       "      <th>6</th>\n",
       "      <td>60</td>\n",
       "      <td>60</td>\n",
       "      <td>13</td>\n",
       "      <td>27</td>\n",
       "      <td>13</td>\n",
       "      <td>60</td>\n",
       "      <td>60</td>\n",
       "      <td>60</td>\n",
       "      <td>60</td>\n",
       "      <td>60</td>\n",
       "      <td>60</td>\n",
       "    </tr>\n",
       "  </tbody>\n",
       "</table>\n",
       "</div>"
      ],
      "text/plain": [
       "                     title  temperature  old_price  new_price  discount  \\\n",
       "temperature_encoded                                                       \n",
       "1                    46411        46411      31049      41110     31049   \n",
       "2                    10212        10212       6244       8585      6244   \n",
       "3                     4574         4574       2558       3752      2558   \n",
       "4                     1836         1836        903       1317       903   \n",
       "5                      322          322         95        177        95   \n",
       "6                       60           60         13         27        13   \n",
       "\n",
       "                     username  number_of_comments  local_deal  description  \\\n",
       "temperature_encoded                                                          \n",
       "1                       46411               46411       46411        46390   \n",
       "2                       10212               10212       10212        10208   \n",
       "3                        4574                4574        4574         4573   \n",
       "4                        1836                1836        1836         1836   \n",
       "5                         322                 322         322          322   \n",
       "6                          60                  60          60           60   \n",
       "\n",
       "                     publication_date  deal_link  \n",
       "temperature_encoded                               \n",
       "1                               46411      46411  \n",
       "2                               10212      10212  \n",
       "3                                4574       4574  \n",
       "4                                1836       1836  \n",
       "5                                 322        322  \n",
       "6                                  60         60  "
      ]
     },
     "execution_count": 149,
     "metadata": {},
     "output_type": "execute_result"
    }
   ],
   "source": [
    "mydealz_data.groupby('temperature_encoded').count()"
   ]
  },
  {
   "cell_type": "code",
   "execution_count": 145,
   "metadata": {},
   "outputs": [
    {
     "data": {
      "text/html": [
       "<div>\n",
       "<style scoped>\n",
       "    .dataframe tbody tr th:only-of-type {\n",
       "        vertical-align: middle;\n",
       "    }\n",
       "\n",
       "    .dataframe tbody tr th {\n",
       "        vertical-align: top;\n",
       "    }\n",
       "\n",
       "    .dataframe thead th {\n",
       "        text-align: right;\n",
       "    }\n",
       "</style>\n",
       "<table border=\"1\" class=\"dataframe\">\n",
       "  <thead>\n",
       "    <tr style=\"text-align: right;\">\n",
       "      <th></th>\n",
       "      <th>title</th>\n",
       "      <th>temperature</th>\n",
       "      <th>old_price</th>\n",
       "      <th>new_price</th>\n",
       "      <th>discount</th>\n",
       "      <th>username</th>\n",
       "      <th>number_of_comments</th>\n",
       "      <th>local_deal</th>\n",
       "      <th>description</th>\n",
       "      <th>publication_date</th>\n",
       "      <th>deal_link</th>\n",
       "      <th>temperature_encoded</th>\n",
       "    </tr>\n",
       "  </thead>\n",
       "  <tbody>\n",
       "  </tbody>\n",
       "</table>\n",
       "</div>"
      ],
      "text/plain": [
       "Empty DataFrame\n",
       "Columns: [title, temperature, old_price, new_price, discount, username, number_of_comments, local_deal, description, publication_date, deal_link, temperature_encoded]\n",
       "Index: []"
      ]
     },
     "execution_count": 145,
     "metadata": {},
     "output_type": "execute_result"
    }
   ],
   "source": [
    "mydealz_data[mydealz_data['temperature_encoded'].isna()]"
   ]
  },
  {
   "cell_type": "code",
   "execution_count": 146,
   "metadata": {},
   "outputs": [
    {
     "name": "stderr",
     "output_type": "stream",
     "text": [
      "/anaconda3/lib/python3.6/site-packages/matplotlib/axes/_axes.py:6462: UserWarning: The 'normed' kwarg is deprecated, and has been replaced by the 'density' kwarg.\n",
      "  warnings.warn(\"The 'normed' kwarg is deprecated, and has been \"\n"
     ]
    },
    {
     "data": {
      "text/plain": [
       "<matplotlib.axes._subplots.AxesSubplot at 0x1a326fcb70>"
      ]
     },
     "execution_count": 146,
     "metadata": {},
     "output_type": "execute_result"
    },
    {
     "data": {
      "image/png": "[encoded data removed]",
      "text/plain": [
       "<Figure size 432x288 with 1 Axes>"
      ]
     },
     "metadata": {},
     "output_type": "display_data"
    }
   ],
   "source": [
    "sns.distplot(mydealz_data['temperature_encoded'],kde=False)"
   ]
  },
  {
   "cell_type": "markdown",
   "metadata": {},
   "source": [
    "## Text Pre-processing"
   ]
  },
  {
   "cell_type": "markdown",
   "metadata": {},
   "source": [
    "**Requirements: You will need to have NLTK installed, along with downloading the corpus for stopwords. To download everything with a conda installation, run the cell below. Or reference the full video lecture**"
   ]
  },
  {
   "cell_type": "code",
   "execution_count": 19,
   "metadata": {},
   "outputs": [],
   "source": [
    "# ONLY RUN THIS CELL IF YOU NEED \n",
    "# TO DOWNLOAD NLTK AND HAVE CONDA\n",
    "# WATCH THE VIDEO FOR FULL INSTRUCTIONS ON THIS STEP\n",
    "\n",
    "# Uncomment the code below and run:\n",
    "\n",
    "\n",
    "# !conda install nltk #This installs nltk\n",
    "# import nltk # Imports the library\n",
    "# nltk.download() #Download the necessary datasets"
   ]
  },
  {
   "cell_type": "code",
   "execution_count": 27,
   "metadata": {},
   "outputs": [],
   "source": [
    "from nltk.corpus import stopwords\n",
    "import string"
   ]
  },
  {
   "cell_type": "code",
   "execution_count": 28,
   "metadata": {},
   "outputs": [],
   "source": [
    "def text_process(text):\n",
    "    \"\"\"\n",
    "    1. remove punc\n",
    "    2. remove stop words\n",
    "    3. return list of celan text words\n",
    "    \n",
    "    \"\"\"\n",
    "    # Check characters to see if they are in punctuation\n",
    "    nopunc = [char for char in text if char not in string.punctuation]\n",
    "    \n",
    "    # Join the characters again to form the string.\n",
    "    nopunc = ''.join(nopunc)\n",
    "    \n",
    "    # Now just remove any stopwords\n",
    "    return [word for word in nopunc.split() if word.lower() not in stopwords.words('german')]"
   ]
  },
  {
   "cell_type": "code",
   "execution_count": 35,
   "metadata": {},
   "outputs": [
    {
     "name": "stdout",
     "output_type": "stream",
     "text": [
      "0 Seeberger Müsliglück Sunday Morning, 6er Pack (6 x 325 g) [AMAZON Sparabo]\n",
      "\n",
      "\n",
      "1 Philips Hue White and Color Ambiance E14 LED Kerze Doppelpack inkl. Hue Dimmschalter, dimmbar, steuerbar via App, für 75,59€ (Amazon)\n",
      "\n",
      "\n",
      "2 [Regional Mediamarkt Nordhorn-Tagesangebot am 10.12]  Bose SoundTouch 10 / Doppelpack schwarz für 249,-€\n",
      "\n",
      "\n",
      "3 Notebooksbilliger Adventskalender - Benq EW3270ZL, Odys Winbook 14\n",
      "\n",
      "\n",
      "4 Philips Hue LightStrip Plus Set 3m - Basis Set & Erweiterung für 59,99€ inkl. Versand // Auch bei Mediamarkt\n",
      "\n",
      "\n",
      "5 Philips 55 PUS 8503 mit 3-fachem Ambilight, 120Hz\n",
      "\n",
      "\n",
      "6 Hereditary für 0,99€ bei Amazon Prime Video leihen\n",
      "\n",
      "\n",
      "7 [Regional Mediamarkt Bayreuth] Verschiedene Nintendo Switch Spiele für je 44,-€ mit Zb. Super Smash Bros. Ultimate  oder Zelda (3für2)\n",
      "\n",
      "\n",
      "8 [Prime] Leitz Mini-Heftgerät und Mini-Locher Set + 1000 Heftklammern, orange metallic\n",
      "\n",
      "\n",
      "9 [Rosegal]  Wiederaufladbere ergonomische vertikale Funkmaus HXSJ T22  2.4GHz für 5€\n",
      "\n",
      "\n"
     ]
    }
   ],
   "source": [
    "#checking the first 10 descriptions\n",
    "\n",
    "for description_no, description in enumerate(mydealz_data['title'][0:10]):\n",
    "    print(description_no,description)\n",
    "    print('\\n')"
   ]
  },
  {
   "cell_type": "code",
   "execution_count": 46,
   "metadata": {},
   "outputs": [
    {
     "data": {
      "text/plain": [
       "0                                                                [Seeberger, Müsliglück, Sunday, Morning, 6er, Pack, 6, x, 325, g, AMAZON, Sparabo]\n",
       "1    [Philips, Hue, White, and, Color, Ambiance, E14, LED, Kerze, Doppelpack, inkl, Hue, Dimmschalter, dimmbar, steuerbar, via, App, 7559€, Amazon]\n",
       "2                                               [Regional, Mediamarkt, NordhornTagesangebot, 1012, Bose, SoundTouch, 10, Doppelpack, schwarz, 249€]\n",
       "3                                                                           [Notebooksbilliger, Adventskalender, Benq, EW3270ZL, Odys, Winbook, 14]\n",
       "4                                              [Philips, Hue, LightStrip, Plus, Set, 3m, Basis, Set, Erweiterung, 5999€, inkl, Versand, Mediamarkt]\n",
       "Name: title, dtype: object"
      ]
     },
     "execution_count": 46,
     "metadata": {},
     "output_type": "execute_result"
    }
   ],
   "source": [
    "# Check to make sure its working\n",
    "mydealz_data['title'].head(5).apply(text_process)"
   ]
  },
  {
   "cell_type": "markdown",
   "metadata": {},
   "source": [
    "# Vectorization"
   ]
  },
  {
   "cell_type": "code",
   "execution_count": 47,
   "metadata": {},
   "outputs": [],
   "source": [
    "from sklearn.feature_extraction.text import CountVectorizer"
   ]
  },
  {
   "cell_type": "code",
   "execution_count": 48,
   "metadata": {},
   "outputs": [
    {
     "name": "stdout",
     "output_type": "stream",
     "text": [
      "85950\n"
     ]
    }
   ],
   "source": [
    "# Might take awhile...\n",
    "bow_transformer = CountVectorizer(analyzer=text_process).fit(mydealz_data['title'])\n",
    "\n",
    "# Print total number of vocab words\n",
    "print(len(bow_transformer.vocabulary_))"
   ]
  },
  {
   "cell_type": "code",
   "execution_count": 50,
   "metadata": {},
   "outputs": [
    {
     "name": "stdout",
     "output_type": "stream",
     "text": [
      "Philips Hue LightStrip Plus Set 3m - Basis Set & Erweiterung für 59,99€ inkl. Versand // Auch bei Mediamarkt\n"
     ]
    }
   ],
   "source": [
    "title4 = mydealz_data['title'][4]\n",
    "print(title4)"
   ]
  },
  {
   "cell_type": "code",
   "execution_count": 53,
   "metadata": {},
   "outputs": [
    {
     "name": "stdout",
     "output_type": "stream",
     "text": [
      "  (0, 10644)\t1\n",
      "  (0, 13506)\t1\n",
      "  (0, 22284)\t1\n",
      "  (0, 32484)\t1\n",
      "  (0, 41344)\t1\n",
      "  (0, 47862)\t1\n",
      "  (0, 50561)\t1\n",
      "  (0, 56983)\t1\n",
      "  (0, 57441)\t1\n",
      "  (0, 64665)\t2\n",
      "  (0, 73156)\t1\n",
      "  (0, 81205)\t1\n",
      "(1, 85950)\n"
     ]
    }
   ],
   "source": [
    "bow4 = bow_transformer.transform([title4])\n",
    "print(bow4)\n",
    "print(bow4.shape)"
   ]
  },
  {
   "cell_type": "code",
   "execution_count": 55,
   "metadata": {},
   "outputs": [
    {
     "name": "stdout",
     "output_type": "stream",
     "text": [
      "Set\n"
     ]
    }
   ],
   "source": [
    "print(bow_transformer.get_feature_names()[64665])"
   ]
  },
  {
   "cell_type": "code",
   "execution_count": 56,
   "metadata": {},
   "outputs": [],
   "source": [
    "title_bow = bow_transformer.transform(mydealz_data['title'])"
   ]
  },
  {
   "cell_type": "code",
   "execution_count": 57,
   "metadata": {},
   "outputs": [
    {
     "name": "stdout",
     "output_type": "stream",
     "text": [
      "Shape of Sparse Matrix:  (63415, 85950)\n",
      "Amount of Non-Zero occurences:  559984\n"
     ]
    }
   ],
   "source": [
    "print('Shape of Sparse Matrix: ', title_bow.shape)\n",
    "print('Amount of Non-Zero occurences: ', title_bow.nnz)"
   ]
  },
  {
   "cell_type": "code",
   "execution_count": 59,
   "metadata": {},
   "outputs": [
    {
     "name": "stdout",
     "output_type": "stream",
     "text": [
      "sparsity: 0\n"
     ]
    }
   ],
   "source": [
    "sparsity = (100.0 * title_bow.nnz / (title_bow.shape[0] * title_bow.shape[1]))\n",
    "print('sparsity: {}'.format(round(sparsity)))"
   ]
  },
  {
   "cell_type": "markdown",
   "metadata": {},
   "source": [
    "# TF-IDF"
   ]
  },
  {
   "cell_type": "code",
   "execution_count": 60,
   "metadata": {},
   "outputs": [
    {
     "name": "stdout",
     "output_type": "stream",
     "text": [
      "  (0, 81205)\t0.15688467811808468\n",
      "  (0, 73156)\t0.17816919566407013\n",
      "  (0, 64665)\t0.4416352011934821\n",
      "  (0, 57441)\t0.20087014204038395\n",
      "  (0, 56983)\t0.2080976950959408\n",
      "  (0, 50561)\t0.21364228460496476\n",
      "  (0, 47862)\t0.3479435863073512\n",
      "  (0, 41344)\t0.25089495088425984\n",
      "  (0, 32484)\t0.33047130138751046\n",
      "  (0, 22284)\t0.32734975714249753\n",
      "  (0, 13506)\t0.31465877690457067\n",
      "  (0, 10644)\t0.3462838258704503\n"
     ]
    }
   ],
   "source": [
    "from sklearn.feature_extraction.text import TfidfTransformer\n",
    "\n",
    "tfidf_transformer = TfidfTransformer().fit(title_bow)\n",
    "tfidf4 = tfidf_transformer.transform(bow4)\n",
    "print(tfidf4)"
   ]
  },
  {
   "cell_type": "code",
   "execution_count": 61,
   "metadata": {},
   "outputs": [
    {
     "name": "stdout",
     "output_type": "stream",
     "text": [
      "3.3688491674732233\n",
      "5.478220262506891\n"
     ]
    }
   ],
   "source": [
    "print(tfidf_transformer.idf_[bow_transformer.vocabulary_['Amazon']])\n",
    "print(tfidf_transformer.idf_[bow_transformer.vocabulary_['Mediamarkt']])"
   ]
  },
  {
   "cell_type": "code",
   "execution_count": 62,
   "metadata": {},
   "outputs": [
    {
     "name": "stdout",
     "output_type": "stream",
     "text": [
      "(63415, 85950)\n"
     ]
    }
   ],
   "source": [
    "title_tfidf = tfidf_transformer.transform(title_bow)\n",
    "print(title_tfidf.shape)"
   ]
  },
  {
   "cell_type": "markdown",
   "metadata": {},
   "source": [
    "# Training a Model"
   ]
  },
  {
   "cell_type": "code",
   "execution_count": 75,
   "metadata": {
    "scrolled": false
   },
   "outputs": [],
   "source": [
    "from sklearn.naive_bayes import MultinomialNB\n",
    "deal_class_model = MultinomialNB().fit(title_tfidf, mydealz_data['temperature_encoded'])"
   ]
  },
  {
   "cell_type": "code",
   "execution_count": 76,
   "metadata": {},
   "outputs": [
    {
     "name": "stdout",
     "output_type": "stream",
     "text": [
      "predicted: 1\n",
      "expected: 1\n"
     ]
    }
   ],
   "source": [
    "print('predicted:', deal_class_model.predict(tfidf4)[0])\n",
    "print('expected:', mydealz_data['temperature_encoded'][3])"
   ]
  },
  {
   "cell_type": "markdown",
   "metadata": {},
   "source": [
    "# Train Test Split"
   ]
  },
  {
   "cell_type": "code",
   "execution_count": 161,
   "metadata": {},
   "outputs": [
    {
     "name": "stdout",
     "output_type": "stream",
     "text": [
      "19024 44391 63415\n"
     ]
    }
   ],
   "source": [
    "from sklearn.model_selection import train_test_split\n",
    "\n",
    "title_train, title_test, label_train, label_test = \\\n",
    "train_test_split(mydealz_data['title'], mydealz_data['temperature_encoded'],test_size = 0.7)\n",
    "\n",
    "print(len(title_train), len(title_test), len(title_train) + len(title_test))"
   ]
  },
  {
   "cell_type": "markdown",
   "metadata": {},
   "source": [
    "# Creating a Data Pipeline"
   ]
  },
  {
   "cell_type": "code",
   "execution_count": 162,
   "metadata": {},
   "outputs": [],
   "source": [
    "from sklearn.pipeline import Pipeline\n",
    "\n",
    "pipeline = Pipeline([\n",
    "    ('bow', CountVectorizer(analyzer=text_process)),  # strings to token integer counts\n",
    "    ('tfidf', TfidfTransformer()),  # integer counts to weighted TF-IDF scores\n",
    "    ('classifier', MultinomialNB()),  # train on TF-IDF vectors w/ Naive Bayes classifier\n",
    "])"
   ]
  },
  {
   "cell_type": "code",
   "execution_count": 163,
   "metadata": {},
   "outputs": [
    {
     "data": {
      "text/plain": [
       "Pipeline(memory=None,\n",
       "     steps=[('bow', CountVectorizer(analyzer=<function text_process at 0x1147701e0>, binary=False,\n",
       "        decode_error='strict', dtype=<class 'numpy.int64'>,\n",
       "        encoding='utf-8', input='content', lowercase=True, max_df=1.0,\n",
       "        max_features=None, min_df=1, ngram_range=(1, 1), preprocessor=None,...f=False, use_idf=True)), ('classifier', MultinomialNB(alpha=1.0, class_prior=None, fit_prior=True))])"
      ]
     },
     "execution_count": 163,
     "metadata": {},
     "output_type": "execute_result"
    }
   ],
   "source": [
    "pipeline.fit(title_train,label_train)"
   ]
  },
  {
   "cell_type": "code",
   "execution_count": 164,
   "metadata": {},
   "outputs": [],
   "source": [
    "predictions = pipeline.predict(title_test)"
   ]
  },
  {
   "cell_type": "code",
   "execution_count": 165,
   "metadata": {},
   "outputs": [
    {
     "name": "stdout",
     "output_type": "stream",
     "text": [
      "              precision    recall  f1-score   support\n",
      "\n",
      "           1       1.00      0.73      0.85     44377\n",
      "           2       0.00      0.25      0.00         8\n",
      "           3       0.00      0.83      0.00         6\n",
      "           4       0.00      0.00      0.00         0\n",
      "           5       0.00      0.00      0.00         0\n",
      "           6       0.00      0.00      0.00         0\n",
      "\n",
      "   micro avg       0.73      0.73      0.73     44391\n",
      "   macro avg       0.17      0.30      0.14     44391\n",
      "weighted avg       1.00      0.73      0.85     44391\n",
      "\n"
     ]
    },
    {
     "name": "stderr",
     "output_type": "stream",
     "text": [
      "/anaconda3/lib/python3.6/site-packages/sklearn/metrics/classification.py:1145: UndefinedMetricWarning: Recall and F-score are ill-defined and being set to 0.0 in labels with no true samples.\n",
      "  'recall', 'true', average, warn_for)\n",
      "/anaconda3/lib/python3.6/site-packages/sklearn/metrics/classification.py:1145: UndefinedMetricWarning: Recall and F-score are ill-defined and being set to 0.0 in labels with no true samples.\n",
      "  'recall', 'true', average, warn_for)\n",
      "/anaconda3/lib/python3.6/site-packages/sklearn/metrics/classification.py:1145: UndefinedMetricWarning: Recall and F-score are ill-defined and being set to 0.0 in labels with no true samples.\n",
      "  'recall', 'true', average, warn_for)\n"
     ]
    }
   ],
   "source": [
    "print(classification_report(predictions,label_test))"
   ]
  },
  {
   "cell_type": "code",
   "execution_count": 160,
   "metadata": {},
   "outputs": [
    {
     "name": "stderr",
     "output_type": "stream",
     "text": [
      "/anaconda3/lib/python3.6/site-packages/matplotlib/axes/_axes.py:6462: UserWarning: The 'normed' kwarg is deprecated, and has been replaced by the 'density' kwarg.\n",
      "  warnings.warn(\"The 'normed' kwarg is deprecated, and has been \"\n"
     ]
    },
    {
     "data": {
      "text/plain": [
       "<matplotlib.axes._subplots.AxesSubplot at 0x1a322ec0b8>"
      ]
     },
     "execution_count": 160,
     "metadata": {},
     "output_type": "execute_result"
    },
    {
     "data": {
      "image/png": "[encoded data removed]",
      "text/plain": [
       "<Figure size 432x288 with 1 Axes>"
      ]
     },
     "metadata": {},
     "output_type": "display_data"
    }
   ],
   "source": [
    "sns.distplot(mydealz_data['temperature'],kde=False)"
   ]
  }
 ],
 "metadata": {
  "kernelspec": {
   "display_name": "Python 3",
   "language": "python",
   "name": "python3"
  },
  "language_info": {
   "codemirror_mode": {
    "name": "ipython",
    "version": 3
   },
   "file_extension": ".py",
   "mimetype": "text/x-python",
   "name": "python",
   "nbconvert_exporter": "python",
   "pygments_lexer": "ipython3",
   "version": "3.6.2"
  }
 },
 "nbformat": 4,
 "nbformat_minor": 2
}
